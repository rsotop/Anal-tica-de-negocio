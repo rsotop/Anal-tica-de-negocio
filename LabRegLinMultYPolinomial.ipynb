{
  "cells": [
    {
      "cell_type": "markdown",
      "metadata": {
        "id": "view-in-github",
        "colab_type": "text"
      },
      "source": [
        "<a href=\"https://colab.research.google.com/github/rsotop/Anal-tica-de-negocio/blob/main/LabRegLinMultYPolinomial.ipynb\" target=\"_parent\"><img src=\"https://colab.research.google.com/assets/colab-badge.svg\" alt=\"Open In Colab\"/></a>"
      ]
    },
    {
      "cell_type": "markdown",
      "metadata": {
        "button": false,
        "new_sheet": false,
        "run_control": {
          "read_only": false
        },
        "id": "871OVlxKx4GI"
      },
      "source": [
        "<h1><center>Laboratorio de Regresión</center></h1>\n",
        "\n",
        "<h4>Acerca de este Laboratorio</h4>\n",
        "Aprenderemos cómo utilizar la librería scikit-learn para implementar una Regresión Lineal Múltiple y una Regresión Polinómica. Descargaremos un set de datos relacionado al consumo de combustible y a la emisión del dióxido de Carbono en autos. Luego, separaremos nuestros datos en un set de entrenamiento y en otro set de prueba, crearemos un modelo utilizando un set de entrenamiento, se evaluará utilizando el set de prueba para finalmente usar el modelo para predecir valores desconocidos.\n"
      ]
    },
    {
      "cell_type": "markdown",
      "metadata": {
        "id": "VeuJpMgQx4GR"
      },
      "source": [
        "<h1>Indice</h1>\n",
        "\n",
        "<div class=\"alert alert-block alert-info\" style=\"margin-top: 20px\">\n",
        "    <ol>\n",
        "        <li><a href=\"https://#download_data\">Descarga de Datos</a></li>\n",
        "        <li><a href=\"https://#multiple_regression_model\">Regresión lineal múltiple</a></li>\n",
        "        <li><a href=\"https://#polynomial_regression\">Regresión Polinómica</a></li>\n",
        "        <li><a href=\"https://#evaluation\">Evaluación</a></li>\n",
        "        <li><a href=\"https://#practice\">Practica</a></li>\n",
        "    </ol>\n",
        "</div>\n",
        "<br>\n",
        "<hr>\n"
      ]
    },
    {
      "cell_type": "markdown",
      "metadata": {
        "button": false,
        "new_sheet": false,
        "run_control": {
          "read_only": false
        },
        "id": "r_DROiXlx4GT"
      },
      "source": [
        "### Importando los paquetes necesarios\n"
      ]
    },
    {
      "cell_type": "code",
      "execution_count": null,
      "metadata": {
        "button": false,
        "new_sheet": false,
        "run_control": {
          "read_only": false
        },
        "id": "_Ir1eSDRx4GW"
      },
      "outputs": [],
      "source": [
        "import matplotlib.pyplot as plt\n",
        "import pandas as pd\n",
        "import pylab as pl\n",
        "import numpy as np\n",
        "%matplotlib inline"
      ]
    },
    {
      "cell_type": "markdown",
      "metadata": {
        "button": false,
        "new_sheet": false,
        "run_control": {
          "read_only": false
        },
        "id": "tUxzhpfix4Ga"
      },
      "source": [
        "<h2 id=\"download_data\">Descarga de Datos</h2>\n",
        "Para descargar los datos, usaremos !wget."
      ]
    },
    {
      "cell_type": "code",
      "execution_count": null,
      "metadata": {
        "button": false,
        "new_sheet": false,
        "run_control": {
          "read_only": false
        },
        "id": "E3PCvqQ3x4Gb"
      },
      "outputs": [],
      "source": [
        "!wget -O FuelConsumption.csv https://s3-api.us-geo.objectstorage.softlayer.net/cf-courses-data/CognitiveClass/ML0101ENv3/labs/FuelConsumptionCo2.csv"
      ]
    },
    {
      "cell_type": "markdown",
      "metadata": {
        "button": false,
        "new_sheet": false,
        "run_control": {
          "read_only": false
        },
        "id": "yxaWk1v2x4Gi"
      },
      "source": [
        "## Entender los Datos\n",
        "\n",
        "### `FuelConsumption.csv`:\n",
        "\n",
        "Hemos descargado el dataset de consumo de combustible, **`FuelConsumption.csv`**, el cual contiene ratings específicos al consumo de combustible y emisiones de dióxido de carbono para aquellos vehículos ligeros en la venta minorista dentro de Canadá. [Fuente de Datos](http://open.canada.ca/data/en/dataset/98f1a129-f628-4ce4-b24d-6f16bf24dd64?utm_medium=Exinfluencer&utm_source=Exinfluencer&utm_content=000026UJ&utm_term=10006555&utm_id=NA-SkillsNetwork-Channel-SkillsNetworkCoursesIBMML0101ESSkillsNetwork33325205-2021-01-01)\n",
        "\n",
        "*   **MODELYEAR** (Año del modelo) e.g. 2014\n",
        "*   **MAKE** (fabricante) e.g. Acura\n",
        "*   **MODEL** (modelo) e.g. ILX\n",
        "*   **VEHICLE CLASS** (tipo de vehiculo) e.g. SUV\n",
        "*   **ENGINE SIZE** (tamaño del motor) e.g. 4.7\n",
        "*   **CYLINDERS** (cilindrada) e.g 6\n",
        "*   **TRANSMISSION** (transmisión) e.g. A6\n",
        "*   **FUEL CONSUMPTION in CITY(L/100 km)** (consumo en ciudad) e.g. 9.9\n",
        "*   **FUEL CONSUMPTION in HWY (L/100 km)** (consumo en carretera) e.g. 8.9\n",
        "*   **FUEL CONSUMPTION COMB (L/100 km)** (consumo mixto) e.g. 9.2\n",
        "*   **CO2 EMISSIONS (g/km)** (emisiones de dioxido de carbono) e.g. 182   --> low --> 0\n"
      ]
    },
    {
      "cell_type": "markdown",
      "metadata": {
        "button": false,
        "new_sheet": false,
        "run_control": {
          "read_only": false
        },
        "id": "3vT8C2wNx4Gk"
      },
      "source": [
        "## Leyendo los datos\n"
      ]
    },
    {
      "cell_type": "code",
      "execution_count": null,
      "metadata": {
        "button": false,
        "collapsed": true,
        "new_sheet": false,
        "run_control": {
          "read_only": false
        },
        "id": "RXZcbnxgx4Gm"
      },
      "outputs": [],
      "source": [
        "df = pd.read_csv(\"FuelConsumption.csv\")\n",
        "\n",
        "# observar dentro del conjunto de datos\n",
        "df.head()"
      ]
    },
    {
      "cell_type": "markdown",
      "metadata": {
        "id": "ALu78S_Ux4Go"
      },
      "source": [
        "Seleccionemos algunas caracaterísticas para usar en la regresión\n"
      ]
    },
    {
      "cell_type": "code",
      "execution_count": null,
      "metadata": {
        "button": false,
        "collapsed": true,
        "new_sheet": false,
        "run_control": {
          "read_only": false
        },
        "id": "iYRev4Iax4Gp"
      },
      "outputs": [],
      "source": [
        "cdf = df[['ENGINESIZE','CYLINDERS','FUELCONSUMPTION_COMB','CO2EMISSIONS']]\n",
        "cdf.head(9)"
      ]
    },
    {
      "cell_type": "markdown",
      "metadata": {
        "id": "HYf_KLU-x4Gr"
      },
      "source": [
        "Grafiquemos los valores de emisión respecto al tamaño del motor:\n"
      ]
    },
    {
      "cell_type": "code",
      "execution_count": null,
      "metadata": {
        "button": false,
        "collapsed": true,
        "new_sheet": false,
        "run_control": {
          "read_only": false
        },
        "scrolled": true,
        "id": "WzIpwGLsx4Gt"
      },
      "outputs": [],
      "source": [
        "plt.scatter(cdf.ENGINESIZE, cdf.CO2EMISSIONS,  color='blue')\n",
        "plt.xlabel(\"Engine size\")\n",
        "plt.ylabel(\"Emission\")\n",
        "plt.show()"
      ]
    },
    {
      "cell_type": "markdown",
      "metadata": {
        "button": false,
        "new_sheet": false,
        "run_control": {
          "read_only": false
        },
        "id": "EeSXahWyx4Gv"
      },
      "source": [
        "#### Crear conjunto de datos de entrenamiento y pruebas"
      ]
    },
    {
      "cell_type": "code",
      "execution_count": null,
      "metadata": {
        "button": false,
        "collapsed": true,
        "new_sheet": false,
        "run_control": {
          "read_only": false
        },
        "id": "aWOzyp8Ix4Gw"
      },
      "outputs": [],
      "source": [
        "msk = np.random.rand(len(df)) < 0.8\n",
        "train = cdf[msk]\n",
        "test = cdf[~msk]"
      ]
    },
    {
      "cell_type": "markdown",
      "source": [
        "<h2 id=\"multiple_regression_model\">Regresión lineal múltiple</h2>"
      ],
      "metadata": {
        "id": "Hlp7w2WNnJzA"
      }
    },
    {
      "cell_type": "markdown",
      "source": [
        "En realidad, existen múltiples variables que predicen la emisión de CO2. Cuando hay más de una variable independiente presente, el proceso se denomina regresión lineal múltiple. Por ejemplo, predecir las emisiones de co2 utilizando FUELCONSUMPTION_COMB, EngineSize (tamaño del motor) y Cilindros de automóviles. Lo bueno aquí es que la regresión lineal múltiple es la extensión del modelo de regresión lineal simple."
      ],
      "metadata": {
        "id": "vxugrM4dnPA6"
      }
    },
    {
      "cell_type": "code",
      "source": [
        "from sklearn import linear_model\n",
        "regr = linear_model.LinearRegression()\n",
        "x = np.asanyarray(train[['ENGINESIZE','CYLINDERS','FUELCONSUMPTION_COMB']])\n",
        "y = np.asanyarray(train[['CO2EMISSIONS']])\n",
        "regr.fit (x, y)\n",
        "# The coefficients\n",
        "print ('Coefficients: ', regr.coef_)"
      ],
      "metadata": {
        "id": "hvfAxeSdnsJ1"
      },
      "execution_count": null,
      "outputs": []
    },
    {
      "cell_type": "markdown",
      "source": [
        "Como se mencionó anteriormente, **Coefficient** e **Intercept** , son los parámetros de la línea curva de ajuste.\n",
        "Dado que se trata de una regresión lineal múltiple, con 3 parámetros, y sabiendo que los parámetros son la intercepción y los coeficientes del hiperplano, sklearn puede estimarlos a partir de nuestros datos. Scikit-learn utiliza el método de los mínimos cuadrados ordinarios para resolver este problema."
      ],
      "metadata": {
        "id": "iq9fIciXnYoc"
      }
    },
    {
      "cell_type": "markdown",
      "source": [
        "<h2 id=\"prediction\">Prediction</h2>"
      ],
      "metadata": {
        "id": "vLQ1sOsYoMqH"
      }
    },
    {
      "cell_type": "code",
      "source": [
        "y_hat= regr.predict(test[['ENGINESIZE','CYLINDERS','FUELCONSUMPTION_COMB']])\n",
        "x = np.asanyarray(test[['ENGINESIZE','CYLINDERS','FUELCONSUMPTION_COMB']])\n",
        "y = np.asanyarray(test[['CO2EMISSIONS']])\n",
        "print(\"Residual sum of squares: %.2f\"\n",
        "      % np.mean((y_hat - y) ** 2))\n",
        "\n",
        "# Explained variance score: 1 is perfect prediction\n",
        "print('Variance score: %.2f' % regr.score(x, y))"
      ],
      "metadata": {
        "id": "GlrrDOUtoS5X"
      },
      "execution_count": null,
      "outputs": []
    },
    {
      "cell_type": "markdown",
      "source": [
        "**explained variance regression score:**\\\n",
        "Si $\\hat{y}$ es la salida teórica estimada, y la salida teórica correspondiente (correcta), y Var es Varianza, el cuadrado de la desviación estándar, entonces la varianza explicada se estima de la siguiente manera:\n",
        "\n",
        "$\\texttt{explainedVariance}(y, \\hat{y}) = 1 - \\frac{Var{ y - \\hat{y}}}{Var{y}}$\\\n",
        "\n",
        "La mejor puntuación posible es 1.0, los valores más bajos son peores.\n"
      ],
      "metadata": {
        "id": "6Djc2O8rof9p"
      }
    },
    {
      "cell_type": "markdown",
      "source": [
        "<h2 id=\"practice\">Practice</h2>\n",
        "Intente usar una regresión lineal múltiple con el mismo conjunto de datos pero esta vez use __FUEL CONSUMPTION (CONSUMO DE COMBUSTIBLE) en CITY__ y \n",
        "FUEL CONSUMPTION en HWY__ en lugar de FUELCONSUMPTION_COMB. ¿Resulta en una mejor precisión?"
      ],
      "metadata": {
        "id": "WLeVZrinotth"
      }
    },
    {
      "cell_type": "code",
      "source": [
        "# write your code here\n"
      ],
      "metadata": {
        "id": "VVwOERKHo14g"
      },
      "execution_count": null,
      "outputs": []
    },
    {
      "cell_type": "markdown",
      "metadata": {
        "button": false,
        "new_sheet": false,
        "run_control": {
          "read_only": false
        },
        "id": "z7m4AkuEx4Gy"
      },
      "source": [
        "<h2 id=\"polynomial_regression\">Regresión Polinómica</h2>\n"
      ]
    },
    {
      "cell_type": "markdown",
      "metadata": {
        "button": false,
        "new_sheet": false,
        "run_control": {
          "read_only": false
        },
        "id": "WiQctLYwx4G0"
      },
      "source": [
        "Digamos que quiere realizar un Regresión Polinómica de segundo grado:\n",
        "\n",
        "$y = b + \\theta\\_1  x + \\theta\\_2 x^2$\n",
        "\n",
        "Ahora la pregunta es: ¿Como podemos ajustar los datos en esta ecuación teniendo solo valores de $x$, como el caso de **Engine Size**?\n",
        "Podemos generar unas pocas características adicionales: 1, $x$, and $x^2$.\n",
        "\n",
        "La función **PloynomialFeatures()** de la librería Scikit-learn maneja un nuevo conjunto de características del conjunto original. Esto es, un matriz será generada y que consiste de todas las combinaciones polinomicas de las características de menor o los mismos grados especificados. Por ejemplo, digamos que el conjunto de características original tiene solo una, *ENGINESIZE*. Ahora, si seleccionamos el grado del polinomio como 2, generará 3 características; degree=0, degree=1 and degree=2:\n"
      ]
    },
    {
      "cell_type": "code",
      "execution_count": null,
      "metadata": {
        "button": false,
        "collapsed": true,
        "new_sheet": false,
        "run_control": {
          "read_only": false
        },
        "id": "iWbgzulNx4G1"
      },
      "outputs": [],
      "source": [
        "from sklearn.preprocessing import PolynomialFeatures\n",
        "from sklearn import linear_model\n",
        "train_x = np.asanyarray(train[['ENGINESIZE']])\n",
        "train_y = np.asanyarray(train[['CO2EMISSIONS']])\n",
        "\n",
        "test_x = np.asanyarray(test[['ENGINESIZE']])\n",
        "test_y = np.asanyarray(test[['CO2EMISSIONS']])\n",
        "\n",
        "\n",
        "poly = PolynomialFeatures(degree=2)\n",
        "train_x_poly = poly.fit_transform(train_x)\n",
        "train_x_poly"
      ]
    },
    {
      "cell_type": "markdown",
      "metadata": {
        "id": "4Q0XrINix4G3"
      },
      "source": [
        "**fit_transform** toma los valores de x e imprime una lista de los datos que van desde la magnitud 0 a la 2 (ya que hemos seleccionado que nuestro polinómio sea de segundo grado).\n",
        "\n",
        "$\n",
        "\\begin{bmatrix}\n",
        "v\\_1\\\\\\\\\n",
        "v\\_2\\\\\\\\\n",
        "\\vdots\\\\\\\\\n",
        "v_n\n",
        "\\end{bmatrix}\n",
        "$\n",
        "$\\longrightarrow$\n",
        "$\n",
        "\\begin{bmatrix}\n",
        "\\[ 1 & v\\_1 & v\\_1^2]\\\\\\\\\n",
        "\\[ 1 & v\\_2 & v\\_2^2]\\\\\\\\\n",
        "\\vdots & \\vdots & \\vdots\\\\\\\\\n",
        "\\[ 1 & v_n & v_n^2]\n",
        "\\end{bmatrix}\n",
        "$\n",
        "\n",
        "en nuestro ejemplo\n",
        "\n",
        "$\n",
        "\\begin{bmatrix}\n",
        "2.\\\\\\\\\n",
        "2.4\\\\\\\\\n",
        "1.5\\\\\\\\\n",
        "\\vdots\n",
        "\\end{bmatrix}\n",
        "$\n",
        "$\\longrightarrow$\n",
        "$\n",
        "\\begin{bmatrix}\n",
        "\\[ 1 & 2. & 4.]\\\\\\\\\n",
        "\\[ 1 & 2.4 & 5.76]\\\\\\\\\n",
        "\\[ 1 & 1.5 & 2.25]\\\\\\\\\n",
        "\\vdots & \\vdots & \\vdots\\\\\\\\\n",
        "\\end{bmatrix}\n",
        "$\n"
      ]
    },
    {
      "cell_type": "markdown",
      "metadata": {
        "id": "0adZyk0px4G7"
      },
      "source": [
        "Parecen unos conjuntos de características para el analisis de la regresión lineal multiple, ¿verdad?, si, lo es. De hecho la regresión polinomial es un caso especial de regresión lineal con la idea principal de como se seleccionan las características. Considere cambiar $x$ with $x\\_1$, $x\\_1^2$ por $x\\_2$ y así en adelante. La ecuación de segundo grado quedaría asi:\n",
        "\n",
        "$y = b + \\theta\\_1  x\\_1 + \\theta\\_2 x\\_2$\n",
        "\n",
        "Ahora podemos manejar el problema como si se tratara de una 'regresión lineal'. Por lo tanto, esta regresión polinomica se considera como un caso especial de regresión lineal múltiple. Puede utilizar la misma mecánica para resolver dicho problema.\n",
        "\n",
        "Usemos la función **LinearRegression()** para resolver:\n"
      ]
    },
    {
      "cell_type": "code",
      "execution_count": null,
      "metadata": {
        "button": false,
        "collapsed": true,
        "new_sheet": false,
        "run_control": {
          "read_only": false
        },
        "id": "uM2Y7pVLx4G8"
      },
      "outputs": [],
      "source": [
        "clf = linear_model.LinearRegression()\n",
        "train_y_ = clf.fit(train_x_poly, train_y)\n",
        "# los coeficientes \n",
        "print ('Coefficients: ', clf.coef_)\n",
        "print ('Intercept: ',clf.intercept_)"
      ]
    },
    {
      "cell_type": "markdown",
      "metadata": {
        "id": "bUF7Sgksx4G-"
      },
      "source": [
        "Como se mencionó anteriormente **Coeficiente** e **Intercepción** son los parámetros de ajuste de la línea curva. Dado que se trata de una regresión lineal multiple con 3 parámetros y sabiendo que estos son la intercepción y el coeficiente del hiperplano, sklearn los estimó desde un nuevo conjunto de características. Grafiquemoslo:\n"
      ]
    },
    {
      "cell_type": "code",
      "execution_count": null,
      "metadata": {
        "id": "Bsqz6YVFx4HA"
      },
      "outputs": [],
      "source": [
        "plt.scatter(train.ENGINESIZE, train.CO2EMISSIONS,  color='blue')\n",
        "XX = np.arange(0.0, 10.0, 0.1)\n",
        "yy = clf.intercept_[0]+ clf.coef_[0][1]*XX+ clf.coef_[0][2]*np.power(XX, 2)\n",
        "plt.plot(XX, yy, '-r' )\n",
        "plt.xlabel(\"Engine size\")\n",
        "plt.ylabel(\"Emission\")"
      ]
    },
    {
      "cell_type": "markdown",
      "metadata": {
        "button": false,
        "new_sheet": false,
        "run_control": {
          "read_only": false
        },
        "id": "w7EtTGwSx4HB"
      },
      "source": [
        "<h2 id=\"evaluation\">Evaluación</h2>\n"
      ]
    },
    {
      "cell_type": "code",
      "execution_count": null,
      "metadata": {
        "id": "L-_hQamEx4HC"
      },
      "outputs": [],
      "source": [
        "from sklearn.metrics import r2_score\n",
        "\n",
        "test_x_poly = poly.fit_transform(test_x)\n",
        "test_y_ = clf.predict(test_x_poly)\n",
        "\n",
        "print(\"Mean absolute error: %.2f\" % np.mean(np.absolute(test_y_ - test_y)))\n",
        "print(\"Residual sum of squares (MSE): %.2f\" % np.mean((test_y_ - test_y) ** 2))\n",
        "print(\"R2-score: %.2f\" % r2_score(test_y_ , test_y) )"
      ]
    },
    {
      "cell_type": "markdown",
      "metadata": {
        "id": "cmxprJwcx4HE"
      },
      "source": [
        "<h2 id=\"practice\">Practica</h2>\n",
        "\n",
        "Trate de usar la regresión polinómica con el conjunto de datos pero en esta ocasión de tercer grado (cúbica). ¿Tiene mejor precisión?\n"
      ]
    },
    {
      "cell_type": "code",
      "execution_count": null,
      "metadata": {
        "id": "ebFJaV7qx4HF"
      },
      "outputs": [],
      "source": [
        "# Escribe tu código aquí y presiona Shift+Enter para ejecutar\n"
      ]
    },
    {
      "cell_type": "markdown",
      "metadata": {
        "button": false,
        "new_sheet": false,
        "run_control": {
          "read_only": false
        },
        "id": "YPvsi9Kyx4HM"
      },
      "source": [
        "<h3>¡Gracias por completar esta lección!</h3>\n",
        "\n",
        "<h4>Autor:  <a href=\"https://ca.linkedin.com/in/saeedaghabozorgi?utm_medium=Exinfluencer&utm_source=Exinfluencer&utm_content=000026UJ&utm_term=10006555&utm_id=NA-SkillsNetwork-Channel-SkillsNetworkCoursesIBMML0101ESSkillsNetwork33325205-2021-01-01\">Saeed Aghabozorgi</a></h4>\n",
        "\n",
        "<h4>Adaptado por:  <a href=\"https://github.com/rsotop/\">Rodolfo Soto</a></h4>\n"
      ]
    }
  ],
  "metadata": {
    "kernelspec": {
      "display_name": "Python 3",
      "language": "python",
      "name": "python3"
    },
    "language_info": {
      "codemirror_mode": {
        "name": "ipython",
        "version": 3
      },
      "file_extension": ".py",
      "mimetype": "text/x-python",
      "name": "python",
      "nbconvert_exporter": "python",
      "pygments_lexer": "ipython3",
      "version": "3.7.4"
    },
    "colab": {
      "name": "ML0101ES-regresion-polinomica-Co2-py-v1_ES.ipynb",
      "provenance": [],
      "include_colab_link": true
    }
  },
  "nbformat": 4,
  "nbformat_minor": 0
}