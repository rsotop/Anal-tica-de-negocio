{
  "nbformat": 4,
  "nbformat_minor": 0,
  "metadata": {
    "colab": {
      "name": "Lab_Preprocesamiento.ipynb",
      "provenance": [],
      "authorship_tag": "ABX9TyOjrHv6ti2wqPU+IcdA6MaJ",
      "include_colab_link": true
    },
    "kernelspec": {
      "name": "python3",
      "display_name": "Python 3"
    },
    "language_info": {
      "name": "python"
    }
  },
  "cells": [
    {
      "cell_type": "markdown",
      "metadata": {
        "id": "view-in-github",
        "colab_type": "text"
      },
      "source": [
        "<a href=\"https://colab.research.google.com/github/rsotop/Anal-tica-de-negocio/blob/main/Lab_Preprocesamiento.ipynb\" target=\"_parent\"><img src=\"https://colab.research.google.com/assets/colab-badge.svg\" alt=\"Open In Colab\"/></a>"
      ]
    },
    {
      "cell_type": "markdown",
      "source": [
        "## Preprocesamiento de datos \n",
        "En este laboratorio, configuraremos una **canalización de datos** (*data pipeline*) para dejar los datos listos para el análisis. El preprocesamiento de datos tiende a ser, con mucho, el paso que consume más tiempo del proceso de ciencia de datos. Los errores en este paso se propagan al modelo, por lo que es muy importante que lo hagamos correctamente.\n",
        "\n",
        "El objetivo de este paso es dejar los datos listos para la aplicación de modelos.\n",
        "\n",
        "Cada problema tiene su propio conjunto de funciones de preprocesamiento de datos para aplicarlo, pero nos centraremos en las más comunes en los modelos de clasificación. En general queremos:\n",
        "\n",
        "1. Eliminar variables redundantes.\n",
        "2. Tratar valores nulos.\n",
        "3. Tratar los valores atípicos.\n",
        "4. Eliminar entidades correlacionadas.\n",
        "\n",
        "Para este objetivo, utilizaremos el excelente paquete [```scikit-learn```](https://scikit-learn.org/stable/) , que viene con la mayoría de las operaciones de uso intensivo de datos. También usaremos hoy (y durante el resto del módulo) el paquete [```pandas```](https://pandas.pydata.org/), que permite el manejo de datos en general."
      ],
      "metadata": {
        "id": "r99IeJKXnybB"
      }
    },
    {
      "cell_type": "markdown",
      "source": [
        "Lectura de los datos \n",
        "Descarguemos los datos de Bankloan. Lo he modificado ligeramente eliminando la información de PD y LGD (ya que ahora estimaremos la nuestra). Como recordatorio, tiene las siguientes variables:\n",
        "\n",
        "- Cliente: ID, o etiqueta única, del prestatario (NO predictivo).\n",
        "- Edad: Edad del prestatario en años.\n",
        "- Educación: Máximo nivel de educación alcanzado por el prestatario. 1: Primaria completa. 2: Secundaria completa. 3: Educación Superior Incompleta. 4: Educación superior completa. 5: Con estudios de posgrado (MSc o PhD completos).\n",
        "- Empleo: Años en el trabajo actual.\n",
        "- Dirección: Años en la dirección actual.\n",
        "- Ingresos: Ingresos en '000s USD.\n",
        "- Apalancamiento: Relación Deuda/Ingresos.\n",
        "- CredDebt: deuda permanente de la tarjeta de crédito.\n",
        "- OthDebt: Otra deuda en '000s USD.\n",
        "- MonthlyLoad: Porcentaje mensual del salario utilizado para pagar deudas.\n",
        "- Predeterminado: 1 si se ha producido un incumplimiento, 0 si no (variable de destino).\n",
        "\n",
        "Lo descargaremos ahora directamente desde un enlace, usando el comando más obicuo [```wget```](http://www.gnu.org/software/wget/). El comando es\n",
        "\n",
        "```\n",
        "wget [-options] path\n",
        "```\n",
        "\n",
        "Necesitamos agregar las opciones ```--no-check-certificate``` y ```--output-document=FILENAME``` así se descarga ok."
      ],
      "metadata": {
        "id": "nu-IrVEspLsv"
      }
    },
    {
      "cell_type": "code",
      "execution_count": 2,
      "metadata": {
        "colab": {
          "base_uri": "https://localhost:8080/"
        },
        "id": "ADWjAvzPrCwa",
        "outputId": "7307f81c-02a3-4e29-c0c5-28537e2271bc"
      },
      "outputs": [
        {
          "output_type": "stream",
          "name": "stdout",
          "text": [
            "--2022-04-11 02:37:15--  https://docs.google.com/spreadsheets/d/1nUJ1fA5f1VeMvulknpsvxpy0GW3CekNnhgeLRK0WlDI/export?gid=1016776666&format=csv\n",
            "Resolving docs.google.com (docs.google.com)... 173.194.217.100, 173.194.217.113, 173.194.217.139, ...\n",
            "Connecting to docs.google.com (docs.google.com)|173.194.217.100|:443... connected.\n",
            "HTTP request sent, awaiting response... 307 Temporary Redirect\n",
            "Location: https://doc-0o-8s-sheets.googleusercontent.com/export/70cmver1f290kjsnpar5ku2h9g/4cesd57up38eik944bn78u4etg/1649644635000/102123285539774178265/*/1nUJ1fA5f1VeMvulknpsvxpy0GW3CekNnhgeLRK0WlDI?gid=1016776666&format=csv [following]\n",
            "Warning: wildcards not supported in HTTP.\n",
            "--2022-04-11 02:37:15--  https://doc-0o-8s-sheets.googleusercontent.com/export/70cmver1f290kjsnpar5ku2h9g/4cesd57up38eik944bn78u4etg/1649644635000/102123285539774178265/*/1nUJ1fA5f1VeMvulknpsvxpy0GW3CekNnhgeLRK0WlDI?gid=1016776666&format=csv\n",
            "Resolving doc-0o-8s-sheets.googleusercontent.com (doc-0o-8s-sheets.googleusercontent.com)... 173.194.216.132, 2607:f8b0:400c:c12::84\n",
            "Connecting to doc-0o-8s-sheets.googleusercontent.com (doc-0o-8s-sheets.googleusercontent.com)|173.194.216.132|:443... connected.\n",
            "HTTP request sent, awaiting response... 200 OK\n",
            "Length: unspecified [text/csv]\n",
            "Saving to: ‘Bankloan.csv’\n",
            "\n",
            "Bankloan.csv            [ <=>                ]  65.50K  --.-KB/s    in 0.01s   \n",
            "\n",
            "2022-04-11 02:37:16 (5.56 MB/s) - ‘Bankloan.csv’ saved [67077]\n",
            "\n"
          ]
        }
      ],
      "source": [
        "!wget --no-check-certificate --output-document=Bankloan.csv 'https://docs.google.com/spreadsheets/d/1nUJ1fA5f1VeMvulknpsvxpy0GW3CekNnhgeLRK0WlDI/export?gid=1016776666&format=csv'"
      ]
    },
    {
      "cell_type": "code",
      "source": [
        "!head Bankloan.csv"
      ],
      "metadata": {
        "colab": {
          "base_uri": "https://localhost:8080/"
        },
        "id": "FFYTDKhIrQB0",
        "outputId": "d4812160-cf37-444e-98b9-a0e22810ad4e"
      },
      "execution_count": 3,
      "outputs": [
        {
          "output_type": "stream",
          "name": "stdout",
          "text": [
            "customer,Age,Education,Employ,Address,Income,Leverage,Creddebt,OthDebt,MonthlyLoad,Default\r\n",
            "10012,28,Med,7,2,44,17.7,2.99,4.8,0.58,0\r\n",
            "10017,64,Posg,34,17,116,14.7,5.05,12,0.27,0\r\n",
            "10030,40,Bas,20,12,61,4.8,1.04,1.89,0.13,0\r\n",
            "10039,30,Bas,11,3,27,34.5,1.75,7.56,1.62,0\r\n",
            "10069,25,Bas,2,2,30,22.4,0.76,5.96,0.97,1\r\n",
            "10071,35,Bas,2,9,38,10.9,1.46,2.68,0.4,1\r\n",
            "10096,26,SupInc,2,4,38,11.9,0.95,3.57,0.43,1\r\n",
            "10128,25,Bas,4,2,30,14.4,1.05,3.27,0.62,0\r\n",
            "10129,65,SupCom,29,14,189,5,3.36,6.09,0.08,0\r\n"
          ]
        }
      ]
    },
    {
      "cell_type": "markdown",
      "source": [
        "Ahora usaremos Pandas para leer el archivo CSV. La función para hacerlo es [```read_csv```](https://pandas.pydata.org/pandas-docs/stable/reference/api/pandas.read_csv.html). Guardaremos los resultados en una variable llamada ```bankloan_data```."
      ],
      "metadata": {
        "id": "t-pz7sR6sw0l"
      }
    },
    {
      "cell_type": "code",
      "source": [
        "import pandas as pd\n",
        "bankloan_data = pd.read_csv('Bankloan.csv')"
      ],
      "metadata": {
        "id": "j4eCji7OttUJ"
      },
      "execution_count": 4,
      "outputs": []
    },
    {
      "cell_type": "markdown",
      "source": [
        "Como recordatorio, aquí están las estadísticas resumidas de las variables."
      ],
      "metadata": {
        "id": "UdDfGfeut3dT"
      }
    },
    {
      "cell_type": "code",
      "source": [
        "bankloan_data.describe()"
      ],
      "metadata": {
        "colab": {
          "base_uri": "https://localhost:8080/",
          "height": 300
        },
        "id": "dFjUaSyKuBrr",
        "outputId": "e69a531a-402a-4ce5-df9e-f63eec8edba6"
      },
      "execution_count": 5,
      "outputs": [
        {
          "output_type": "execute_result",
          "data": {
            "text/plain": [
              "            customer          Age       Employ      Address       Income  \\\n",
              "count    1500.000000  1500.000000  1500.000000  1499.000000  1499.000000   \n",
              "mean   257714.548000    34.174000     6.952000     6.309540    59.615077   \n",
              "std    139555.147719    13.142306     8.977644     6.047563    67.144768   \n",
              "min     10012.000000    18.000000     0.000000     0.000000    12.000000   \n",
              "25%     98638.750000    24.000000     0.000000     2.000000    27.000000   \n",
              "50%    315991.500000    31.000000     4.000000     5.000000    40.000000   \n",
              "75%    370701.500000    42.000000    10.000000     9.000000    64.000000   \n",
              "max    453777.000000    79.000000    63.000000    34.000000  1079.000000   \n",
              "\n",
              "            Leverage     Creddebt      OthDebt  MonthlyLoad      Default  \n",
              "count    1499.000000  1499.000000  1489.000000  1500.000000  1500.000000  \n",
              "mean      677.046631     1.936197     3.872257     0.365447     0.365333  \n",
              "std     25828.218141     2.974485     5.343150     0.293937     0.481684  \n",
              "min         0.100000     0.000000     0.100000     0.000000     0.000000  \n",
              "25%         4.800000     0.420000     1.120000     0.150000     0.000000  \n",
              "50%         8.500000     0.990000     2.240000     0.290000     0.000000  \n",
              "75%        13.600000     2.200000     4.610000     0.500000     1.000000  \n",
              "max    999999.000000    35.970000    63.470000     2.150000     1.000000  "
            ],
            "text/html": [
              "\n",
              "  <div id=\"df-72952fe9-ea03-4e0c-b110-c55cdb4da18e\">\n",
              "    <div class=\"colab-df-container\">\n",
              "      <div>\n",
              "<style scoped>\n",
              "    .dataframe tbody tr th:only-of-type {\n",
              "        vertical-align: middle;\n",
              "    }\n",
              "\n",
              "    .dataframe tbody tr th {\n",
              "        vertical-align: top;\n",
              "    }\n",
              "\n",
              "    .dataframe thead th {\n",
              "        text-align: right;\n",
              "    }\n",
              "</style>\n",
              "<table border=\"1\" class=\"dataframe\">\n",
              "  <thead>\n",
              "    <tr style=\"text-align: right;\">\n",
              "      <th></th>\n",
              "      <th>customer</th>\n",
              "      <th>Age</th>\n",
              "      <th>Employ</th>\n",
              "      <th>Address</th>\n",
              "      <th>Income</th>\n",
              "      <th>Leverage</th>\n",
              "      <th>Creddebt</th>\n",
              "      <th>OthDebt</th>\n",
              "      <th>MonthlyLoad</th>\n",
              "      <th>Default</th>\n",
              "    </tr>\n",
              "  </thead>\n",
              "  <tbody>\n",
              "    <tr>\n",
              "      <th>count</th>\n",
              "      <td>1500.000000</td>\n",
              "      <td>1500.000000</td>\n",
              "      <td>1500.000000</td>\n",
              "      <td>1499.000000</td>\n",
              "      <td>1499.000000</td>\n",
              "      <td>1499.000000</td>\n",
              "      <td>1499.000000</td>\n",
              "      <td>1489.000000</td>\n",
              "      <td>1500.000000</td>\n",
              "      <td>1500.000000</td>\n",
              "    </tr>\n",
              "    <tr>\n",
              "      <th>mean</th>\n",
              "      <td>257714.548000</td>\n",
              "      <td>34.174000</td>\n",
              "      <td>6.952000</td>\n",
              "      <td>6.309540</td>\n",
              "      <td>59.615077</td>\n",
              "      <td>677.046631</td>\n",
              "      <td>1.936197</td>\n",
              "      <td>3.872257</td>\n",
              "      <td>0.365447</td>\n",
              "      <td>0.365333</td>\n",
              "    </tr>\n",
              "    <tr>\n",
              "      <th>std</th>\n",
              "      <td>139555.147719</td>\n",
              "      <td>13.142306</td>\n",
              "      <td>8.977644</td>\n",
              "      <td>6.047563</td>\n",
              "      <td>67.144768</td>\n",
              "      <td>25828.218141</td>\n",
              "      <td>2.974485</td>\n",
              "      <td>5.343150</td>\n",
              "      <td>0.293937</td>\n",
              "      <td>0.481684</td>\n",
              "    </tr>\n",
              "    <tr>\n",
              "      <th>min</th>\n",
              "      <td>10012.000000</td>\n",
              "      <td>18.000000</td>\n",
              "      <td>0.000000</td>\n",
              "      <td>0.000000</td>\n",
              "      <td>12.000000</td>\n",
              "      <td>0.100000</td>\n",
              "      <td>0.000000</td>\n",
              "      <td>0.100000</td>\n",
              "      <td>0.000000</td>\n",
              "      <td>0.000000</td>\n",
              "    </tr>\n",
              "    <tr>\n",
              "      <th>25%</th>\n",
              "      <td>98638.750000</td>\n",
              "      <td>24.000000</td>\n",
              "      <td>0.000000</td>\n",
              "      <td>2.000000</td>\n",
              "      <td>27.000000</td>\n",
              "      <td>4.800000</td>\n",
              "      <td>0.420000</td>\n",
              "      <td>1.120000</td>\n",
              "      <td>0.150000</td>\n",
              "      <td>0.000000</td>\n",
              "    </tr>\n",
              "    <tr>\n",
              "      <th>50%</th>\n",
              "      <td>315991.500000</td>\n",
              "      <td>31.000000</td>\n",
              "      <td>4.000000</td>\n",
              "      <td>5.000000</td>\n",
              "      <td>40.000000</td>\n",
              "      <td>8.500000</td>\n",
              "      <td>0.990000</td>\n",
              "      <td>2.240000</td>\n",
              "      <td>0.290000</td>\n",
              "      <td>0.000000</td>\n",
              "    </tr>\n",
              "    <tr>\n",
              "      <th>75%</th>\n",
              "      <td>370701.500000</td>\n",
              "      <td>42.000000</td>\n",
              "      <td>10.000000</td>\n",
              "      <td>9.000000</td>\n",
              "      <td>64.000000</td>\n",
              "      <td>13.600000</td>\n",
              "      <td>2.200000</td>\n",
              "      <td>4.610000</td>\n",
              "      <td>0.500000</td>\n",
              "      <td>1.000000</td>\n",
              "    </tr>\n",
              "    <tr>\n",
              "      <th>max</th>\n",
              "      <td>453777.000000</td>\n",
              "      <td>79.000000</td>\n",
              "      <td>63.000000</td>\n",
              "      <td>34.000000</td>\n",
              "      <td>1079.000000</td>\n",
              "      <td>999999.000000</td>\n",
              "      <td>35.970000</td>\n",
              "      <td>63.470000</td>\n",
              "      <td>2.150000</td>\n",
              "      <td>1.000000</td>\n",
              "    </tr>\n",
              "  </tbody>\n",
              "</table>\n",
              "</div>\n",
              "      <button class=\"colab-df-convert\" onclick=\"convertToInteractive('df-72952fe9-ea03-4e0c-b110-c55cdb4da18e')\"\n",
              "              title=\"Convert this dataframe to an interactive table.\"\n",
              "              style=\"display:none;\">\n",
              "        \n",
              "  <svg xmlns=\"http://www.w3.org/2000/svg\" height=\"24px\"viewBox=\"0 0 24 24\"\n",
              "       width=\"24px\">\n",
              "    <path d=\"M0 0h24v24H0V0z\" fill=\"none\"/>\n",
              "    <path d=\"M18.56 5.44l.94 2.06.94-2.06 2.06-.94-2.06-.94-.94-2.06-.94 2.06-2.06.94zm-11 1L8.5 8.5l.94-2.06 2.06-.94-2.06-.94L8.5 2.5l-.94 2.06-2.06.94zm10 10l.94 2.06.94-2.06 2.06-.94-2.06-.94-.94-2.06-.94 2.06-2.06.94z\"/><path d=\"M17.41 7.96l-1.37-1.37c-.4-.4-.92-.59-1.43-.59-.52 0-1.04.2-1.43.59L10.3 9.45l-7.72 7.72c-.78.78-.78 2.05 0 2.83L4 21.41c.39.39.9.59 1.41.59.51 0 1.02-.2 1.41-.59l7.78-7.78 2.81-2.81c.8-.78.8-2.07 0-2.86zM5.41 20L4 18.59l7.72-7.72 1.47 1.35L5.41 20z\"/>\n",
              "  </svg>\n",
              "      </button>\n",
              "      \n",
              "  <style>\n",
              "    .colab-df-container {\n",
              "      display:flex;\n",
              "      flex-wrap:wrap;\n",
              "      gap: 12px;\n",
              "    }\n",
              "\n",
              "    .colab-df-convert {\n",
              "      background-color: #E8F0FE;\n",
              "      border: none;\n",
              "      border-radius: 50%;\n",
              "      cursor: pointer;\n",
              "      display: none;\n",
              "      fill: #1967D2;\n",
              "      height: 32px;\n",
              "      padding: 0 0 0 0;\n",
              "      width: 32px;\n",
              "    }\n",
              "\n",
              "    .colab-df-convert:hover {\n",
              "      background-color: #E2EBFA;\n",
              "      box-shadow: 0px 1px 2px rgba(60, 64, 67, 0.3), 0px 1px 3px 1px rgba(60, 64, 67, 0.15);\n",
              "      fill: #174EA6;\n",
              "    }\n",
              "\n",
              "    [theme=dark] .colab-df-convert {\n",
              "      background-color: #3B4455;\n",
              "      fill: #D2E3FC;\n",
              "    }\n",
              "\n",
              "    [theme=dark] .colab-df-convert:hover {\n",
              "      background-color: #434B5C;\n",
              "      box-shadow: 0px 1px 3px 1px rgba(0, 0, 0, 0.15);\n",
              "      filter: drop-shadow(0px 1px 2px rgba(0, 0, 0, 0.3));\n",
              "      fill: #FFFFFF;\n",
              "    }\n",
              "  </style>\n",
              "\n",
              "      <script>\n",
              "        const buttonEl =\n",
              "          document.querySelector('#df-72952fe9-ea03-4e0c-b110-c55cdb4da18e button.colab-df-convert');\n",
              "        buttonEl.style.display =\n",
              "          google.colab.kernel.accessAllowed ? 'block' : 'none';\n",
              "\n",
              "        async function convertToInteractive(key) {\n",
              "          const element = document.querySelector('#df-72952fe9-ea03-4e0c-b110-c55cdb4da18e');\n",
              "          const dataTable =\n",
              "            await google.colab.kernel.invokeFunction('convertToInteractive',\n",
              "                                                     [key], {});\n",
              "          if (!dataTable) return;\n",
              "\n",
              "          const docLinkHtml = 'Like what you see? Visit the ' +\n",
              "            '<a target=\"_blank\" href=https://colab.research.google.com/notebooks/data_table.ipynb>data table notebook</a>'\n",
              "            + ' to learn more about interactive tables.';\n",
              "          element.innerHTML = '';\n",
              "          dataTable['output_type'] = 'display_data';\n",
              "          await google.colab.output.renderOutput(dataTable, element);\n",
              "          const docLink = document.createElement('div');\n",
              "          docLink.innerHTML = docLinkHtml;\n",
              "          element.appendChild(docLink);\n",
              "        }\n",
              "      </script>\n",
              "    </div>\n",
              "  </div>\n",
              "  "
            ]
          },
          "metadata": {},
          "execution_count": 5
        }
      ]
    },
    {
      "cell_type": "markdown",
      "source": [
        "Podemos ver que hay algunos valores nulos en diferentes variables y aparentemente un valor atípico no válido en el apalancamiento. Visualicemos el conjunto de datos usando seaborn para tener una idea de la distribución."
      ],
      "metadata": {
        "id": "pXTfuGiRt9ZA"
      }
    },
    {
      "cell_type": "code",
      "source": [
        "import matplotlib.pyplot as plt\n",
        "import seaborn as sns\n",
        "import numpy as np\n",
        "%matplotlib inline"
      ],
      "metadata": {
        "id": "p_vdD3IIuoqg"
      },
      "execution_count": 6,
      "outputs": []
    },
    {
      "cell_type": "code",
      "source": [
        "sns.set(color_codes=True)\n",
        "for col_id in bankloan_data.columns[np.r_[1,3:9]]:\n",
        "    sns.displot(data = bankloan_data, x = col_id, hue = \"Default\", kind = 'kde')"
      ],
      "metadata": {
        "colab": {
          "base_uri": "https://localhost:8080/",
          "height": 1000
        },
        "id": "CRZwM1MRuufI",
        "outputId": "db70f33c-4173-4a20-bac2-65fa9587d0d2"
      },
      "execution_count": 7,
      "outputs": [
        {
          "output_type": "display_data",
          "data": {
            "text/plain": [
              "<Figure size 412.925x360 with 1 Axes>"
            ],
            "image/png": "[encoded data removed]"
          },
          "metadata": {}
        },
        {
          "output_type": "display_data",
          "data": {
            "text/plain": [
              "<Figure size 412.925x360 with 1 Axes>"
            ],
            "image/png": "[encoded data removed]"
          },
          "metadata": {}
        },
        {
          "output_type": "display_data",
          "data": {
            "text/plain": [
              "<Figure size 412.925x360 with 1 Axes>"
            ],
            "image/png": "[encoded data removed]"
          },
          "metadata": {}
        },
        {
          "output_type": "display_data",
          "data": {
            "text/plain": [
              "<Figure size 412.925x360 with 1 Axes>"
            ],
            "image/png": "[encoded data removed]"
          },
          "metadata": {}
        },
        {
          "output_type": "display_data",
          "data": {
            "text/plain": [
              "<Figure size 412.925x360 with 1 Axes>"
            ],
            "image/png": "[encoded data removed]"
          },
          "metadata": {}
        },
        {
          "output_type": "display_data",
          "data": {
            "text/plain": [
              "<Figure size 412.925x360 with 1 Axes>"
            ],
            "image/png": "[encoded data removed]"
          },
          "metadata": {}
        },
        {
          "output_type": "display_data",
          "data": {
            "text/plain": [
              "<Figure size 412.925x360 with 1 Axes>"
            ],
            "image/png": "[encoded data removed]"
          },
          "metadata": {}
        }
      ]
    },
    {
      "cell_type": "markdown",
      "source": [
        "Seaborn puede hacer muchos gráficos sofisticados (y estéticamente agradables). Ve a [La Galería](https://seaborn.pydata.org/examples/index.html) para más detalles y código de ejemplo. \n",
        "\n",
        "Hay valores atípicos severos en OthDebt, Leverage, Creddebt e Income, pero no sabemos cuáles son válidos y cuáles no. Trataremos estos ahora."
      ],
      "metadata": {
        "id": "7GUjsPGsvC2A"
      }
    },
    {
      "cell_type": "markdown",
      "source": [
        "## Limpieza de datos\n",
        "\n",
        "Ahora podemos centrarnos en limpiar los datos. Comencemos con la parte fácil: eliminar valores nulos. **Recuerde verificar cuando un valor atípico es un valor faltante** (invalid outliers).\n",
        "\n",
        "### Valores nulos\n",
        "\n",
        "La función central aquí será la de Panda [```fillna```](https://pandas.pydata.org/pandas-docs/stable/reference/api/pandas.DataFrame.fillna.html). Esto permite reemplazar todos los valores nulos (representados por Ninguno o NaN en Python) por un valor determinado. Esto también permite establecer cuál será el reemplazo con el ```value``` argument. Vea la ayuda para más detalles.\n",
        "\n",
        "Recuerde las estrategias para tratar:\n",
        "\n",
        "1. Mantener: si los valores nulos son una categoría por sí mismos. En este caso, reemplácelo por algo significativo.\n",
        "\n",
        "2. Eliminar: si los valores nulos son demasiados, **ya sea por fila o por columna**, es mejor descartar el caso o la variable.\n",
        "\n",
        "3. Reemplazar: si solo faltan unos pocos para la variable o la fila (<1 % en total), reemplace los valores nulos por la **median** para las variables continuas y la **mode** para los valores categóricos.\n",
        "\n",
        "Estudiemos los valores nulos de nuestro conjunto de datos. La función [```isnull()```](https://pandas.pydata.org/pandas-docs/stable/reference/api/pandas.isnull.html) devuelve qué elementos en el marco de datos son nulos. La función [```any()```](https://pandas.pydata.org/pandas-docs/stable/reference/api/pandas.DataFrame.any.html) devuelve una lista con las columnas (predeterminadas) o filas (que pasan ```axis = 1``` a la función) que tienen algún elemento con un valor booleano de verdadero."
      ],
      "metadata": {
        "id": "ihKIYZfYwNyF"
      }
    },
    {
      "cell_type": "code",
      "source": [
        "bankloan_data.isnull().any()"
      ],
      "metadata": {
        "colab": {
          "base_uri": "https://localhost:8080/"
        },
        "id": "kD76giXtySCC",
        "outputId": "92e7ff4a-4e81-4e89-e09a-910883252acc"
      },
      "execution_count": 8,
      "outputs": [
        {
          "output_type": "execute_result",
          "data": {
            "text/plain": [
              "customer       False\n",
              "Age            False\n",
              "Education      False\n",
              "Employ         False\n",
              "Address         True\n",
              "Income          True\n",
              "Leverage        True\n",
              "Creddebt        True\n",
              "OthDebt         True\n",
              "MonthlyLoad    False\n",
              "Default        False\n",
              "dtype: bool"
            ]
          },
          "metadata": {},
          "execution_count": 8
        }
      ]
    },
    {
      "cell_type": "markdown",
      "source": [
        "Podemos ver qué columnas tienen valores nulos. Vamos a estudiarlos con más detalle."
      ],
      "metadata": {
        "id": "ZduKsNLu_NpU"
      }
    },
    {
      "cell_type": "code",
      "source": [
        "null_columns = bankloan_data.columns[bankloan_data.isnull().any()]\n",
        "bankloan_data[null_columns].isnull().sum()"
      ],
      "metadata": {
        "colab": {
          "base_uri": "https://localhost:8080/"
        },
        "id": "tqhy6KAJvpnI",
        "outputId": "dfe7ab8c-afa1-45cb-ecb6-d654b9503084"
      },
      "execution_count": 9,
      "outputs": [
        {
          "output_type": "execute_result",
          "data": {
            "text/plain": [
              "Address      1\n",
              "Income       1\n",
              "Leverage     1\n",
              "Creddebt     1\n",
              "OthDebt     11\n",
              "dtype: int64"
            ]
          },
          "metadata": {},
          "execution_count": 9
        }
      ]
    },
    {
      "cell_type": "markdown",
      "source": [
        "Dada la pequeña cantidad de casos para todas las variables excepto OthDebt, simplemente podemos reemplazar esos valores por la mediana.\n",
        "\n",
        "Estudiemos los casos de OthDebt con más detalle."
      ],
      "metadata": {
        "id": "cYu_rrg5_jFZ"
      }
    },
    {
      "cell_type": "code",
      "source": [
        "bankloan_data.loc[bankloan_data.isnull().any(axis = 1), :]"
      ],
      "metadata": {
        "colab": {
          "base_uri": "https://localhost:8080/",
          "height": 394
        },
        "id": "lmZC13h0C-o7",
        "outputId": "3cc6d0ad-5c8d-4554-8bf9-611b0c2c2ad8"
      },
      "execution_count": 10,
      "outputs": [
        {
          "output_type": "execute_result",
          "data": {
            "text/plain": [
              "      customer  Age Education  Employ  Address  Income  Leverage  Creddebt  \\\n",
              "17       10423   19       Bas       2      0.0    31.0       0.3      0.02   \n",
              "247      71896   20    SupInc       0      0.0    21.0       1.3      0.18   \n",
              "255      72327   19       Med       0      NaN     NaN       NaN       NaN   \n",
              "293      74471   39       Bas       8      9.0    41.0       0.1      0.03   \n",
              "587     244023   31    SupCom       1      7.0    69.0       0.4      0.19   \n",
              "745     315892   22    SupInc       0      1.0    14.0       2.5      0.26   \n",
              "748     315948   41       Med      21      9.0    64.0       0.3      0.12   \n",
              "817     335635   18       Med       0      0.0    24.0       0.9      0.13   \n",
              "1194    372485   20    SupInc       0      0.0    13.0       1.1      0.05   \n",
              "1254    376801   23    SupCom       0      2.0    19.0       1.4      0.18   \n",
              "1395    382157   20    SupInc       0      0.0    13.0  999999.0      0.00   \n",
              "\n",
              "      OthDebt  MonthlyLoad  Default  \n",
              "17        NaN         0.01        1  \n",
              "247       NaN         0.07        1  \n",
              "255       NaN         0.01        1  \n",
              "293       NaN         0.00        0  \n",
              "587       NaN         0.01        0  \n",
              "745       NaN         0.20        0  \n",
              "748       NaN         0.01        0  \n",
              "817       NaN         0.05        1  \n",
              "1194      NaN         0.10        0  \n",
              "1254      NaN         0.09        0  \n",
              "1395      NaN         0.00        0  "
            ],
            "text/html": [
              "\n",
              "  <div id=\"df-251e8718-afe2-4874-8cfa-95abb3a0d8ac\">\n",
              "    <div class=\"colab-df-container\">\n",
              "      <div>\n",
              "<style scoped>\n",
              "    .dataframe tbody tr th:only-of-type {\n",
              "        vertical-align: middle;\n",
              "    }\n",
              "\n",
              "    .dataframe tbody tr th {\n",
              "        vertical-align: top;\n",
              "    }\n",
              "\n",
              "    .dataframe thead th {\n",
              "        text-align: right;\n",
              "    }\n",
              "</style>\n",
              "<table border=\"1\" class=\"dataframe\">\n",
              "  <thead>\n",
              "    <tr style=\"text-align: right;\">\n",
              "      <th></th>\n",
              "      <th>customer</th>\n",
              "      <th>Age</th>\n",
              "      <th>Education</th>\n",
              "      <th>Employ</th>\n",
              "      <th>Address</th>\n",
              "      <th>Income</th>\n",
              "      <th>Leverage</th>\n",
              "      <th>Creddebt</th>\n",
              "      <th>OthDebt</th>\n",
              "      <th>MonthlyLoad</th>\n",
              "      <th>Default</th>\n",
              "    </tr>\n",
              "  </thead>\n",
              "  <tbody>\n",
              "    <tr>\n",
              "      <th>17</th>\n",
              "      <td>10423</td>\n",
              "      <td>19</td>\n",
              "      <td>Bas</td>\n",
              "      <td>2</td>\n",
              "      <td>0.0</td>\n",
              "      <td>31.0</td>\n",
              "      <td>0.3</td>\n",
              "      <td>0.02</td>\n",
              "      <td>NaN</td>\n",
              "      <td>0.01</td>\n",
              "      <td>1</td>\n",
              "    </tr>\n",
              "    <tr>\n",
              "      <th>247</th>\n",
              "      <td>71896</td>\n",
              "      <td>20</td>\n",
              "      <td>SupInc</td>\n",
              "      <td>0</td>\n",
              "      <td>0.0</td>\n",
              "      <td>21.0</td>\n",
              "      <td>1.3</td>\n",
              "      <td>0.18</td>\n",
              "      <td>NaN</td>\n",
              "      <td>0.07</td>\n",
              "      <td>1</td>\n",
              "    </tr>\n",
              "    <tr>\n",
              "      <th>255</th>\n",
              "      <td>72327</td>\n",
              "      <td>19</td>\n",
              "      <td>Med</td>\n",
              "      <td>0</td>\n",
              "      <td>NaN</td>\n",
              "      <td>NaN</td>\n",
              "      <td>NaN</td>\n",
              "      <td>NaN</td>\n",
              "      <td>NaN</td>\n",
              "      <td>0.01</td>\n",
              "      <td>1</td>\n",
              "    </tr>\n",
              "    <tr>\n",
              "      <th>293</th>\n",
              "      <td>74471</td>\n",
              "      <td>39</td>\n",
              "      <td>Bas</td>\n",
              "      <td>8</td>\n",
              "      <td>9.0</td>\n",
              "      <td>41.0</td>\n",
              "      <td>0.1</td>\n",
              "      <td>0.03</td>\n",
              "      <td>NaN</td>\n",
              "      <td>0.00</td>\n",
              "      <td>0</td>\n",
              "    </tr>\n",
              "    <tr>\n",
              "      <th>587</th>\n",
              "      <td>244023</td>\n",
              "      <td>31</td>\n",
              "      <td>SupCom</td>\n",
              "      <td>1</td>\n",
              "      <td>7.0</td>\n",
              "      <td>69.0</td>\n",
              "      <td>0.4</td>\n",
              "      <td>0.19</td>\n",
              "      <td>NaN</td>\n",
              "      <td>0.01</td>\n",
              "      <td>0</td>\n",
              "    </tr>\n",
              "    <tr>\n",
              "      <th>745</th>\n",
              "      <td>315892</td>\n",
              "      <td>22</td>\n",
              "      <td>SupInc</td>\n",
              "      <td>0</td>\n",
              "      <td>1.0</td>\n",
              "      <td>14.0</td>\n",
              "      <td>2.5</td>\n",
              "      <td>0.26</td>\n",
              "      <td>NaN</td>\n",
              "      <td>0.20</td>\n",
              "      <td>0</td>\n",
              "    </tr>\n",
              "    <tr>\n",
              "      <th>748</th>\n",
              "      <td>315948</td>\n",
              "      <td>41</td>\n",
              "      <td>Med</td>\n",
              "      <td>21</td>\n",
              "      <td>9.0</td>\n",
              "      <td>64.0</td>\n",
              "      <td>0.3</td>\n",
              "      <td>0.12</td>\n",
              "      <td>NaN</td>\n",
              "      <td>0.01</td>\n",
              "      <td>0</td>\n",
              "    </tr>\n",
              "    <tr>\n",
              "      <th>817</th>\n",
              "      <td>335635</td>\n",
              "      <td>18</td>\n",
              "      <td>Med</td>\n",
              "      <td>0</td>\n",
              "      <td>0.0</td>\n",
              "      <td>24.0</td>\n",
              "      <td>0.9</td>\n",
              "      <td>0.13</td>\n",
              "      <td>NaN</td>\n",
              "      <td>0.05</td>\n",
              "      <td>1</td>\n",
              "    </tr>\n",
              "    <tr>\n",
              "      <th>1194</th>\n",
              "      <td>372485</td>\n",
              "      <td>20</td>\n",
              "      <td>SupInc</td>\n",
              "      <td>0</td>\n",
              "      <td>0.0</td>\n",
              "      <td>13.0</td>\n",
              "      <td>1.1</td>\n",
              "      <td>0.05</td>\n",
              "      <td>NaN</td>\n",
              "      <td>0.10</td>\n",
              "      <td>0</td>\n",
              "    </tr>\n",
              "    <tr>\n",
              "      <th>1254</th>\n",
              "      <td>376801</td>\n",
              "      <td>23</td>\n",
              "      <td>SupCom</td>\n",
              "      <td>0</td>\n",
              "      <td>2.0</td>\n",
              "      <td>19.0</td>\n",
              "      <td>1.4</td>\n",
              "      <td>0.18</td>\n",
              "      <td>NaN</td>\n",
              "      <td>0.09</td>\n",
              "      <td>0</td>\n",
              "    </tr>\n",
              "    <tr>\n",
              "      <th>1395</th>\n",
              "      <td>382157</td>\n",
              "      <td>20</td>\n",
              "      <td>SupInc</td>\n",
              "      <td>0</td>\n",
              "      <td>0.0</td>\n",
              "      <td>13.0</td>\n",
              "      <td>999999.0</td>\n",
              "      <td>0.00</td>\n",
              "      <td>NaN</td>\n",
              "      <td>0.00</td>\n",
              "      <td>0</td>\n",
              "    </tr>\n",
              "  </tbody>\n",
              "</table>\n",
              "</div>\n",
              "      <button class=\"colab-df-convert\" onclick=\"convertToInteractive('df-251e8718-afe2-4874-8cfa-95abb3a0d8ac')\"\n",
              "              title=\"Convert this dataframe to an interactive table.\"\n",
              "              style=\"display:none;\">\n",
              "        \n",
              "  <svg xmlns=\"http://www.w3.org/2000/svg\" height=\"24px\"viewBox=\"0 0 24 24\"\n",
              "       width=\"24px\">\n",
              "    <path d=\"M0 0h24v24H0V0z\" fill=\"none\"/>\n",
              "    <path d=\"M18.56 5.44l.94 2.06.94-2.06 2.06-.94-2.06-.94-.94-2.06-.94 2.06-2.06.94zm-11 1L8.5 8.5l.94-2.06 2.06-.94-2.06-.94L8.5 2.5l-.94 2.06-2.06.94zm10 10l.94 2.06.94-2.06 2.06-.94-2.06-.94-.94-2.06-.94 2.06-2.06.94z\"/><path d=\"M17.41 7.96l-1.37-1.37c-.4-.4-.92-.59-1.43-.59-.52 0-1.04.2-1.43.59L10.3 9.45l-7.72 7.72c-.78.78-.78 2.05 0 2.83L4 21.41c.39.39.9.59 1.41.59.51 0 1.02-.2 1.41-.59l7.78-7.78 2.81-2.81c.8-.78.8-2.07 0-2.86zM5.41 20L4 18.59l7.72-7.72 1.47 1.35L5.41 20z\"/>\n",
              "  </svg>\n",
              "      </button>\n",
              "      \n",
              "  <style>\n",
              "    .colab-df-container {\n",
              "      display:flex;\n",
              "      flex-wrap:wrap;\n",
              "      gap: 12px;\n",
              "    }\n",
              "\n",
              "    .colab-df-convert {\n",
              "      background-color: #E8F0FE;\n",
              "      border: none;\n",
              "      border-radius: 50%;\n",
              "      cursor: pointer;\n",
              "      display: none;\n",
              "      fill: #1967D2;\n",
              "      height: 32px;\n",
              "      padding: 0 0 0 0;\n",
              "      width: 32px;\n",
              "    }\n",
              "\n",
              "    .colab-df-convert:hover {\n",
              "      background-color: #E2EBFA;\n",
              "      box-shadow: 0px 1px 2px rgba(60, 64, 67, 0.3), 0px 1px 3px 1px rgba(60, 64, 67, 0.15);\n",
              "      fill: #174EA6;\n",
              "    }\n",
              "\n",
              "    [theme=dark] .colab-df-convert {\n",
              "      background-color: #3B4455;\n",
              "      fill: #D2E3FC;\n",
              "    }\n",
              "\n",
              "    [theme=dark] .colab-df-convert:hover {\n",
              "      background-color: #434B5C;\n",
              "      box-shadow: 0px 1px 3px 1px rgba(0, 0, 0, 0.15);\n",
              "      filter: drop-shadow(0px 1px 2px rgba(0, 0, 0, 0.3));\n",
              "      fill: #FFFFFF;\n",
              "    }\n",
              "  </style>\n",
              "\n",
              "      <script>\n",
              "        const buttonEl =\n",
              "          document.querySelector('#df-251e8718-afe2-4874-8cfa-95abb3a0d8ac button.colab-df-convert');\n",
              "        buttonEl.style.display =\n",
              "          google.colab.kernel.accessAllowed ? 'block' : 'none';\n",
              "\n",
              "        async function convertToInteractive(key) {\n",
              "          const element = document.querySelector('#df-251e8718-afe2-4874-8cfa-95abb3a0d8ac');\n",
              "          const dataTable =\n",
              "            await google.colab.kernel.invokeFunction('convertToInteractive',\n",
              "                                                     [key], {});\n",
              "          if (!dataTable) return;\n",
              "\n",
              "          const docLinkHtml = 'Like what you see? Visit the ' +\n",
              "            '<a target=\"_blank\" href=https://colab.research.google.com/notebooks/data_table.ipynb>data table notebook</a>'\n",
              "            + ' to learn more about interactive tables.';\n",
              "          element.innerHTML = '';\n",
              "          dataTable['output_type'] = 'display_data';\n",
              "          await google.colab.output.renderOutput(dataTable, element);\n",
              "          const docLink = document.createElement('div');\n",
              "          docLink.innerHTML = docLinkHtml;\n",
              "          element.appendChild(docLink);\n",
              "        }\n",
              "      </script>\n",
              "    </div>\n",
              "  </div>\n",
              "  "
            ]
          },
          "metadata": {},
          "execution_count": 10
        }
      ]
    },
    {
      "cell_type": "markdown",
      "source": [
        "Podemos ver todos los casos en los que OthDebt es nulo. También podemos ver el valor atípico atroz que tiene Leverage, con un valor de 9999999. Estos valores nos dan algunas pistas sobre lo que está sucediendo con OthDebt. Estudiemos el mínimo y el máximo de las variables."
      ],
      "metadata": {
        "id": "I9RBGFafDT8Y"
      }
    },
    {
      "cell_type": "code",
      "source": [
        "bankloan_data.OthDebt.describe()"
      ],
      "metadata": {
        "colab": {
          "base_uri": "https://localhost:8080/"
        },
        "id": "jY4sI70cDS4J",
        "outputId": "1389922a-6988-4283-8c2b-005638db3b11"
      },
      "execution_count": 11,
      "outputs": [
        {
          "output_type": "execute_result",
          "data": {
            "text/plain": [
              "count    1489.000000\n",
              "mean        3.872257\n",
              "std         5.343150\n",
              "min         0.100000\n",
              "25%         1.120000\n",
              "50%         2.240000\n",
              "75%         4.610000\n",
              "max        63.470000\n",
              "Name: OthDebt, dtype: float64"
            ]
          },
          "metadata": {},
          "execution_count": 11
        }
      ]
    },
    {
      "cell_type": "markdown",
      "source": [
        "¡Ajá! ¿Notas algo? ¡No hay valores iguales a 0! Podemos hacer una buena suposición de que los valores nulos son iguales a cero. En la vida real llamaríamos a los administradores de sistemas para confirmar esto, pero en este caso podemos adivinar.\n",
        "\n",
        "Entonces, ahora deberíamos arreglar estos valores de la siguiente manera:\n",
        "\n",
        "1. Reemplace el apalancamiento igual a 999999 por un valor nulo.\n",
        "2. Reemplace todos los valores nulos de OthDebt por 0.\n",
        "3. Reemplace los valores nulos restantes por la mediana."
      ],
      "metadata": {
        "id": "eYrkbESYDxdQ"
      }
    },
    {
      "cell_type": "code",
      "source": [
        "# Reemplace valor atípico invalido.\n",
        "bankloan_data.Leverage.values[bankloan_data.Leverage.values == 999999] = np.NaN"
      ],
      "metadata": {
        "id": "EPd5GWCUGk50"
      },
      "execution_count": 12,
      "outputs": []
    },
    {
      "cell_type": "code",
      "source": [
        "# Rellena los valores nulos con ceros. El argumento en lugar cambia el marco de datos.\n",
        "bankloan_data.OthDebt.fillna(value = 0, inplace=True)"
      ],
      "metadata": {
        "id": "ezO4oXrGGwb9"
      },
      "execution_count": 13,
      "outputs": []
    },
    {
      "cell_type": "code",
      "source": [
        "# Complete los elementos restantes.\n",
        "bankloan_data.fillna(bankloan_data.median(), inplace=True)"
      ],
      "metadata": {
        "colab": {
          "base_uri": "https://localhost:8080/"
        },
        "id": "66F7XEdzG8KF",
        "outputId": "ac72e20e-ad7c-44a7-867e-5c18325bbf5c"
      },
      "execution_count": 14,
      "outputs": [
        {
          "output_type": "stream",
          "name": "stderr",
          "text": [
            "/usr/local/lib/python3.7/dist-packages/ipykernel_launcher.py:2: FutureWarning: Dropping of nuisance columns in DataFrame reductions (with 'numeric_only=None') is deprecated; in a future version this will raise TypeError.  Select only valid columns before calling the reduction.\n",
            "  \n"
          ]
        }
      ]
    },
    {
      "cell_type": "code",
      "source": [
        "bankloan_data.describe()"
      ],
      "metadata": {
        "colab": {
          "base_uri": "https://localhost:8080/",
          "height": 300
        },
        "id": "HH1rqjNBHAnL",
        "outputId": "521dd4ba-019f-4871-e603-c8e2914bd887"
      },
      "execution_count": 15,
      "outputs": [
        {
          "output_type": "execute_result",
          "data": {
            "text/plain": [
              "            customer          Age       Employ      Address       Income  \\\n",
              "count    1500.000000  1500.000000  1500.000000  1500.000000  1500.000000   \n",
              "mean   257714.548000    34.174000     6.952000     6.308667    59.602000   \n",
              "std    139555.147719    13.142306     8.977644     6.045640    67.124278   \n",
              "min     10012.000000    18.000000     0.000000     0.000000    12.000000   \n",
              "25%     98638.750000    24.000000     0.000000     2.000000    27.000000   \n",
              "50%    315991.500000    31.000000     4.000000     5.000000    40.000000   \n",
              "75%    370701.500000    42.000000    10.000000     9.000000    64.000000   \n",
              "max    453777.000000    79.000000    63.000000    34.000000  1079.000000   \n",
              "\n",
              "          Leverage     Creddebt      OthDebt  MonthlyLoad      Default  \n",
              "count  1500.000000  1500.000000  1500.000000  1500.000000  1500.000000  \n",
              "mean      9.940600     1.935567     3.843860     0.365447     0.365333  \n",
              "std       6.662313     2.973593     5.333758     0.293937     0.481684  \n",
              "min       0.100000     0.000000     0.000000     0.000000     0.000000  \n",
              "25%       4.800000     0.420000     1.107500     0.150000     0.000000  \n",
              "50%       8.500000     0.990000     2.215000     0.290000     0.000000  \n",
              "75%      13.525000     2.200000     4.572500     0.500000     1.000000  \n",
              "max      40.700000    35.970000    63.470000     2.150000     1.000000  "
            ],
            "text/html": [
              "\n",
              "  <div id=\"df-a190560a-f732-4b67-99c4-28d334c7b95c\">\n",
              "    <div class=\"colab-df-container\">\n",
              "      <div>\n",
              "<style scoped>\n",
              "    .dataframe tbody tr th:only-of-type {\n",
              "        vertical-align: middle;\n",
              "    }\n",
              "\n",
              "    .dataframe tbody tr th {\n",
              "        vertical-align: top;\n",
              "    }\n",
              "\n",
              "    .dataframe thead th {\n",
              "        text-align: right;\n",
              "    }\n",
              "</style>\n",
              "<table border=\"1\" class=\"dataframe\">\n",
              "  <thead>\n",
              "    <tr style=\"text-align: right;\">\n",
              "      <th></th>\n",
              "      <th>customer</th>\n",
              "      <th>Age</th>\n",
              "      <th>Employ</th>\n",
              "      <th>Address</th>\n",
              "      <th>Income</th>\n",
              "      <th>Leverage</th>\n",
              "      <th>Creddebt</th>\n",
              "      <th>OthDebt</th>\n",
              "      <th>MonthlyLoad</th>\n",
              "      <th>Default</th>\n",
              "    </tr>\n",
              "  </thead>\n",
              "  <tbody>\n",
              "    <tr>\n",
              "      <th>count</th>\n",
              "      <td>1500.000000</td>\n",
              "      <td>1500.000000</td>\n",
              "      <td>1500.000000</td>\n",
              "      <td>1500.000000</td>\n",
              "      <td>1500.000000</td>\n",
              "      <td>1500.000000</td>\n",
              "      <td>1500.000000</td>\n",
              "      <td>1500.000000</td>\n",
              "      <td>1500.000000</td>\n",
              "      <td>1500.000000</td>\n",
              "    </tr>\n",
              "    <tr>\n",
              "      <th>mean</th>\n",
              "      <td>257714.548000</td>\n",
              "      <td>34.174000</td>\n",
              "      <td>6.952000</td>\n",
              "      <td>6.308667</td>\n",
              "      <td>59.602000</td>\n",
              "      <td>9.940600</td>\n",
              "      <td>1.935567</td>\n",
              "      <td>3.843860</td>\n",
              "      <td>0.365447</td>\n",
              "      <td>0.365333</td>\n",
              "    </tr>\n",
              "    <tr>\n",
              "      <th>std</th>\n",
              "      <td>139555.147719</td>\n",
              "      <td>13.142306</td>\n",
              "      <td>8.977644</td>\n",
              "      <td>6.045640</td>\n",
              "      <td>67.124278</td>\n",
              "      <td>6.662313</td>\n",
              "      <td>2.973593</td>\n",
              "      <td>5.333758</td>\n",
              "      <td>0.293937</td>\n",
              "      <td>0.481684</td>\n",
              "    </tr>\n",
              "    <tr>\n",
              "      <th>min</th>\n",
              "      <td>10012.000000</td>\n",
              "      <td>18.000000</td>\n",
              "      <td>0.000000</td>\n",
              "      <td>0.000000</td>\n",
              "      <td>12.000000</td>\n",
              "      <td>0.100000</td>\n",
              "      <td>0.000000</td>\n",
              "      <td>0.000000</td>\n",
              "      <td>0.000000</td>\n",
              "      <td>0.000000</td>\n",
              "    </tr>\n",
              "    <tr>\n",
              "      <th>25%</th>\n",
              "      <td>98638.750000</td>\n",
              "      <td>24.000000</td>\n",
              "      <td>0.000000</td>\n",
              "      <td>2.000000</td>\n",
              "      <td>27.000000</td>\n",
              "      <td>4.800000</td>\n",
              "      <td>0.420000</td>\n",
              "      <td>1.107500</td>\n",
              "      <td>0.150000</td>\n",
              "      <td>0.000000</td>\n",
              "    </tr>\n",
              "    <tr>\n",
              "      <th>50%</th>\n",
              "      <td>315991.500000</td>\n",
              "      <td>31.000000</td>\n",
              "      <td>4.000000</td>\n",
              "      <td>5.000000</td>\n",
              "      <td>40.000000</td>\n",
              "      <td>8.500000</td>\n",
              "      <td>0.990000</td>\n",
              "      <td>2.215000</td>\n",
              "      <td>0.290000</td>\n",
              "      <td>0.000000</td>\n",
              "    </tr>\n",
              "    <tr>\n",
              "      <th>75%</th>\n",
              "      <td>370701.500000</td>\n",
              "      <td>42.000000</td>\n",
              "      <td>10.000000</td>\n",
              "      <td>9.000000</td>\n",
              "      <td>64.000000</td>\n",
              "      <td>13.525000</td>\n",
              "      <td>2.200000</td>\n",
              "      <td>4.572500</td>\n",
              "      <td>0.500000</td>\n",
              "      <td>1.000000</td>\n",
              "    </tr>\n",
              "    <tr>\n",
              "      <th>max</th>\n",
              "      <td>453777.000000</td>\n",
              "      <td>79.000000</td>\n",
              "      <td>63.000000</td>\n",
              "      <td>34.000000</td>\n",
              "      <td>1079.000000</td>\n",
              "      <td>40.700000</td>\n",
              "      <td>35.970000</td>\n",
              "      <td>63.470000</td>\n",
              "      <td>2.150000</td>\n",
              "      <td>1.000000</td>\n",
              "    </tr>\n",
              "  </tbody>\n",
              "</table>\n",
              "</div>\n",
              "      <button class=\"colab-df-convert\" onclick=\"convertToInteractive('df-a190560a-f732-4b67-99c4-28d334c7b95c')\"\n",
              "              title=\"Convert this dataframe to an interactive table.\"\n",
              "              style=\"display:none;\">\n",
              "        \n",
              "  <svg xmlns=\"http://www.w3.org/2000/svg\" height=\"24px\"viewBox=\"0 0 24 24\"\n",
              "       width=\"24px\">\n",
              "    <path d=\"M0 0h24v24H0V0z\" fill=\"none\"/>\n",
              "    <path d=\"M18.56 5.44l.94 2.06.94-2.06 2.06-.94-2.06-.94-.94-2.06-.94 2.06-2.06.94zm-11 1L8.5 8.5l.94-2.06 2.06-.94-2.06-.94L8.5 2.5l-.94 2.06-2.06.94zm10 10l.94 2.06.94-2.06 2.06-.94-2.06-.94-.94-2.06-.94 2.06-2.06.94z\"/><path d=\"M17.41 7.96l-1.37-1.37c-.4-.4-.92-.59-1.43-.59-.52 0-1.04.2-1.43.59L10.3 9.45l-7.72 7.72c-.78.78-.78 2.05 0 2.83L4 21.41c.39.39.9.59 1.41.59.51 0 1.02-.2 1.41-.59l7.78-7.78 2.81-2.81c.8-.78.8-2.07 0-2.86zM5.41 20L4 18.59l7.72-7.72 1.47 1.35L5.41 20z\"/>\n",
              "  </svg>\n",
              "      </button>\n",
              "      \n",
              "  <style>\n",
              "    .colab-df-container {\n",
              "      display:flex;\n",
              "      flex-wrap:wrap;\n",
              "      gap: 12px;\n",
              "    }\n",
              "\n",
              "    .colab-df-convert {\n",
              "      background-color: #E8F0FE;\n",
              "      border: none;\n",
              "      border-radius: 50%;\n",
              "      cursor: pointer;\n",
              "      display: none;\n",
              "      fill: #1967D2;\n",
              "      height: 32px;\n",
              "      padding: 0 0 0 0;\n",
              "      width: 32px;\n",
              "    }\n",
              "\n",
              "    .colab-df-convert:hover {\n",
              "      background-color: #E2EBFA;\n",
              "      box-shadow: 0px 1px 2px rgba(60, 64, 67, 0.3), 0px 1px 3px 1px rgba(60, 64, 67, 0.15);\n",
              "      fill: #174EA6;\n",
              "    }\n",
              "\n",
              "    [theme=dark] .colab-df-convert {\n",
              "      background-color: #3B4455;\n",
              "      fill: #D2E3FC;\n",
              "    }\n",
              "\n",
              "    [theme=dark] .colab-df-convert:hover {\n",
              "      background-color: #434B5C;\n",
              "      box-shadow: 0px 1px 3px 1px rgba(0, 0, 0, 0.15);\n",
              "      filter: drop-shadow(0px 1px 2px rgba(0, 0, 0, 0.3));\n",
              "      fill: #FFFFFF;\n",
              "    }\n",
              "  </style>\n",
              "\n",
              "      <script>\n",
              "        const buttonEl =\n",
              "          document.querySelector('#df-a190560a-f732-4b67-99c4-28d334c7b95c button.colab-df-convert');\n",
              "        buttonEl.style.display =\n",
              "          google.colab.kernel.accessAllowed ? 'block' : 'none';\n",
              "\n",
              "        async function convertToInteractive(key) {\n",
              "          const element = document.querySelector('#df-a190560a-f732-4b67-99c4-28d334c7b95c');\n",
              "          const dataTable =\n",
              "            await google.colab.kernel.invokeFunction('convertToInteractive',\n",
              "                                                     [key], {});\n",
              "          if (!dataTable) return;\n",
              "\n",
              "          const docLinkHtml = 'Like what you see? Visit the ' +\n",
              "            '<a target=\"_blank\" href=https://colab.research.google.com/notebooks/data_table.ipynb>data table notebook</a>'\n",
              "            + ' to learn more about interactive tables.';\n",
              "          element.innerHTML = '';\n",
              "          dataTable['output_type'] = 'display_data';\n",
              "          await google.colab.output.renderOutput(dataTable, element);\n",
              "          const docLink = document.createElement('div');\n",
              "          docLink.innerHTML = docLinkHtml;\n",
              "          element.appendChild(docLink);\n",
              "        }\n",
              "      </script>\n",
              "    </div>\n",
              "  </div>\n",
              "  "
            ]
          },
          "metadata": {},
          "execution_count": 15
        }
      ]
    },
    {
      "cell_type": "markdown",
      "source": [
        "¡No hay más valores nulos! Ahora estamos listos para estudiar las distribuciones."
      ],
      "metadata": {
        "id": "olPfxjzGHjMB"
      }
    },
    {
      "cell_type": "markdown",
      "source": [
        "### Limpieza de valores atípicos \n",
        "La limpieza de valores atípicos, por otro lado, requiere una intervención mucho más manual. Sabemos que hay tres variables en las que debemos intervenir: Ingresos (Income), Deuda crediticia (Creddebt) y Deuda alternativa (OthDebt). En general, nos gustaría modificar todos los casos en los que haya una distribución discontinua o un caso que esté fuera de 3 a 6 desviaciones estándar.\n",
        "\n",
        "¡Es muy importante usar su juicio en esto! No se limite a cortar en 3 stds, ya que eso es demasiado restrictivo en una distribución exponencial. Si desea tener una idea de los valores, Seaborn puede ayudarlo. La función ```displot``` con la opción ```hist``` o ```kde``` permite comprobar la distribución de valores."
      ],
      "metadata": {
        "id": "tzKNNkOIHuz6"
      }
    },
    {
      "cell_type": "code",
      "source": [
        "sns.displot(bankloan_data['Income'], kind = 'hist')"
      ],
      "metadata": {
        "colab": {
          "base_uri": "https://localhost:8080/",
          "height": 382
        },
        "id": "x9tjbWE3Hk13",
        "outputId": "5daf808c-ef19-4f48-f71d-dfd7e3f321f6"
      },
      "execution_count": 19,
      "outputs": [
        {
          "output_type": "execute_result",
          "data": {
            "text/plain": [
              "<seaborn.axisgrid.FacetGrid at 0x7f7e87743e10>"
            ]
          },
          "metadata": {},
          "execution_count": 19
        },
        {
          "output_type": "display_data",
          "data": {
            "text/plain": [
              "<Figure size 360x360 with 1 Axes>"
            ],
            "image/png": "[encoded data removed]"
          },
          "metadata": {}
        }
      ]
    },
    {
      "cell_type": "code",
      "source": [
        "sns.displot(bankloan_data['Creddebt'], kind = 'kde')"
      ],
      "metadata": {
        "colab": {
          "base_uri": "https://localhost:8080/",
          "height": 382
        },
        "id": "KL2z65GpfO3P",
        "outputId": "5544fe1c-06bd-478c-b574-6c2a36510507"
      },
      "execution_count": 17,
      "outputs": [
        {
          "output_type": "execute_result",
          "data": {
            "text/plain": [
              "<seaborn.axisgrid.FacetGrid at 0x7f7e878fffd0>"
            ]
          },
          "metadata": {},
          "execution_count": 17
        },
        {
          "output_type": "display_data",
          "data": {
            "text/plain": [
              "<Figure size 360x360 with 1 Axes>"
            ],
            "image/png": "[encoded data removed]"
          },
          "metadata": {}
        }
      ]
    },
    {
      "cell_type": "code",
      "source": [
        "sns.displot(bankloan_data['OthDebt'], kind = 'kde')"
      ],
      "metadata": {
        "colab": {
          "base_uri": "https://localhost:8080/",
          "height": 382
        },
        "id": "KJ5CpzEJfdZj",
        "outputId": "fe182444-fd07-4016-b33b-99c178464ed3"
      },
      "execution_count": 20,
      "outputs": [
        {
          "output_type": "execute_result",
          "data": {
            "text/plain": [
              "<seaborn.axisgrid.FacetGrid at 0x7f7e86c8ca50>"
            ]
          },
          "metadata": {},
          "execution_count": 20
        },
        {
          "output_type": "display_data",
          "data": {
            "text/plain": [
              "<Figure size 360x360 with 1 Axes>"
            ],
            "image/png": "[encoded data removed]"
          },
          "metadata": {}
        }
      ]
    },
    {
      "cell_type": "markdown",
      "source": [
        "Todas las variables deben recortarse desde la derecha. Los cortes potenciales son Income de 300, Creddebt de 15 y Othdebt de 30.\n",
        "\n",
        "Para cortar realmente los valores, simplemente podemos escribir una expresión adecuada en Pandas:"
      ],
      "metadata": {
        "id": "H7yvtgL2fjMM"
      }
    },
    {
      "cell_type": "code",
      "source": [
        "bankloan_data = bankloan_data.loc[(bankloan_data['Income'] < 300) & (bankloan_data['Creddebt'] < 15) & (bankloan_data['OthDebt'] < 30)]"
      ],
      "metadata": {
        "id": "rSsI2jdxfl2X"
      },
      "execution_count": 22,
      "outputs": []
    },
    {
      "cell_type": "markdown",
      "source": [
        "Podemos comprobar ahora cómo se ven los datos."
      ],
      "metadata": {
        "id": "i5Ixx25_gioQ"
      }
    },
    {
      "cell_type": "code",
      "source": [
        "fig, ax = plt.subplots(figsize=(10,5))\n",
        "a = sns.violinplot(x='variable', y='value', data=pd.melt(bankloan_data.iloc[:, np.r_[1,3:9]]), ax=ax)\n",
        "a.set_xticklabels(a.get_xticklabels(), rotation=90);"
      ],
      "metadata": {
        "colab": {
          "base_uri": "https://localhost:8080/",
          "height": 381
        },
        "id": "Xel5TVsLgj4f",
        "outputId": "db8f011f-9d35-4d9c-a40d-fd28189be97b"
      },
      "execution_count": 23,
      "outputs": [
        {
          "output_type": "display_data",
          "data": {
            "text/plain": [
              "<Figure size 720x360 with 1 Axes>"
            ],
            "image/png": "[encoded data removed]"
          },
          "metadata": {}
        }
      ]
    },
    {
      "cell_type": "markdown",
      "source": [
        "Mucho mejor, aunque los ingresos todavía tienen un gran valor atípico. Sin embargo, esta gráfica puede ser engañosa, ya que la magnitud de los datos es relevante. Es posible que deseemos volver a verificar esto después de normalizar los datos."
      ],
      "metadata": {
        "id": "butLBgdqg2_J"
      }
    },
    {
      "cell_type": "markdown",
      "source": [
        "## Normalization\n",
        "La mayoría de los modelos requieren que las entradas estén en la misma escala, esto se llama **normalización**. Es muy importante para la mayoría de los modelos... excepto para la calificación crediticia, ya que usaremos el peso de la evidencia (¡vea la lección!). Aún así, esto es bastante simple de hacer en Pandas, siendo inteligente sobre qué columnas seleccionamos y **asignando** una función a esas columnas.\n",
        "\n",
        "El mapeo más tradicional es el zscore. Podemos usar la versión de scipy."
      ],
      "metadata": {
        "id": "u36XNmW7hDwK"
      }
    },
    {
      "cell_type": "code",
      "source": [
        "from scipy.stats import zscore"
      ],
      "metadata": {
        "id": "Q1MIhNZCg4al"
      },
      "execution_count": 24,
      "outputs": []
    },
    {
      "cell_type": "markdown",
      "source": [
        "Ahora seleccionamos todas las columnas numéricas, excepto la del cliente. Podemos hacer esto con ```select_dtypes```."
      ],
      "metadata": {
        "id": "Aa_JqTBuicXV"
      }
    },
    {
      "cell_type": "code",
      "source": [
        "# Identificar las columnas numéricas\n",
        "numeric_cols = bankloan_data.select_dtypes(include=[np.number]).columns\n",
        "numeric_cols"
      ],
      "metadata": {
        "colab": {
          "base_uri": "https://localhost:8080/"
        },
        "id": "jqxux9j4imSn",
        "outputId": "f5a173a1-ff3f-42eb-dd66-99d6a7d10e8b"
      },
      "execution_count": 25,
      "outputs": [
        {
          "output_type": "execute_result",
          "data": {
            "text/plain": [
              "Index(['customer', 'Age', 'Employ', 'Address', 'Income', 'Leverage',\n",
              "       'Creddebt', 'OthDebt', 'MonthlyLoad', 'Default'],\n",
              "      dtype='object')"
            ]
          },
          "metadata": {},
          "execution_count": 25
        }
      ]
    },
    {
      "cell_type": "code",
      "source": [
        "# Remove the first and last one\n",
        "numeric_cols = numeric_cols[1:-1]"
      ],
      "metadata": {
        "id": "bBqZr4HNix67"
      },
      "execution_count": 26,
      "outputs": []
    },
    {
      "cell_type": "code",
      "source": [
        "# Aplicar la función zscore a todos los datos\n",
        "bankloan_data[numeric_cols] = bankloan_data[numeric_cols].apply(zscore)"
      ],
      "metadata": {
        "id": "Auotoam0i7vr"
      },
      "execution_count": 28,
      "outputs": []
    },
    {
      "cell_type": "markdown",
      "source": [
        "Ahora los datos deberían verse mucho mejor."
      ],
      "metadata": {
        "id": "2QATeg5cjF_Y"
      }
    },
    {
      "cell_type": "code",
      "source": [
        "fig, ax = plt.subplots(figsize=(10,5))\n",
        "a = sns.violinplot(x='variable', y='value', data=pd.melt(bankloan_data.iloc[:, np.r_[1,3:9]]), ax=ax)\n",
        "a.set_xticklabels(a.get_xticklabels(), rotation=90);"
      ],
      "metadata": {
        "colab": {
          "base_uri": "https://localhost:8080/",
          "height": 381
        },
        "id": "RvHxMfeKjDnn",
        "outputId": "cf52b508-affe-4bb0-f26e-23d639b97439"
      },
      "execution_count": 29,
      "outputs": [
        {
          "output_type": "display_data",
          "data": {
            "text/plain": [
              "<Figure size 720x360 with 1 Axes>"
            ],
            "image/png": "[encoded data removed]"
          },
          "metadata": {}
        }
      ]
    },
    {
      "cell_type": "markdown",
      "source": [
        "El conjunto de datos se ve realmente limpio ahora. ¡Estamos listos para usar más modelos! Para ser 100 % purista, **primero debe dividirse entre el entrenamiento y el conjunto de prueba** antes de realizar todos estos análisis (por lo que debe usar la mediana del conjunto del entrenamiento). Recuerde eso al resolver su trabajo de curso."
      ],
      "metadata": {
        "id": "3ilMw0HPjiyi"
      }
    },
    {
      "cell_type": "markdown",
      "source": [
        ""
      ],
      "metadata": {
        "id": "26G4IP52j7V8"
      }
    },
    {
      "cell_type": "markdown",
      "source": [
        "## Autoaprendizaje: Codificación *Dummy*\n",
        "El paso final será transformar las variables categóricas en variables *dummies*. Una vez más, esto **no es necesario para la calificación crediticia** ya que la transformación WoE es mucho más robusta. La mejor estrategia aquí es seguir la regla del 5%:\n",
        "\n",
        "1. Agregue según el juicio de expertos (es decir, su opinión) hasta que cada grupo tenga más del 5 % de los datos (1 % si los datos son muy grandes) y todas las clases (por variable objetivo) estén presentes.\n",
        "\n",
        "2. Utilice el porcentaje de la variable objetivo (o árboles de clasificación) hasta que obtenga un número adecuado de grupos.\n",
        "\n",
        "Para verificar el número de casos para cada nivel predeterminado, podemos calcular una tabla cruzada."
      ],
      "metadata": {
        "id": "NjCLQFj8kADu"
      }
    },
    {
      "cell_type": "code",
      "source": [
        "pd.crosstab(bankloan_data['Education'], bankloan_data['Default'])"
      ],
      "metadata": {
        "colab": {
          "base_uri": "https://localhost:8080/",
          "height": 238
        },
        "id": "tqkz0HT6jgj0",
        "outputId": "0e38a1dd-d0b7-43a0-b3b9-8f656b8f0bb5"
      },
      "execution_count": 30,
      "outputs": [
        {
          "output_type": "execute_result",
          "data": {
            "text/plain": [
              "Default      0    1\n",
              "Education          \n",
              "Bas        180   64\n",
              "Med        323  194\n",
              "Posg        54   26\n",
              "SupCom     166  132\n",
              "SupInc     210  117"
            ],
            "text/html": [
              "\n",
              "  <div id=\"df-455a012c-789e-4f1c-99a1-a732bf821da5\">\n",
              "    <div class=\"colab-df-container\">\n",
              "      <div>\n",
              "<style scoped>\n",
              "    .dataframe tbody tr th:only-of-type {\n",
              "        vertical-align: middle;\n",
              "    }\n",
              "\n",
              "    .dataframe tbody tr th {\n",
              "        vertical-align: top;\n",
              "    }\n",
              "\n",
              "    .dataframe thead th {\n",
              "        text-align: right;\n",
              "    }\n",
              "</style>\n",
              "<table border=\"1\" class=\"dataframe\">\n",
              "  <thead>\n",
              "    <tr style=\"text-align: right;\">\n",
              "      <th>Default</th>\n",
              "      <th>0</th>\n",
              "      <th>1</th>\n",
              "    </tr>\n",
              "    <tr>\n",
              "      <th>Education</th>\n",
              "      <th></th>\n",
              "      <th></th>\n",
              "    </tr>\n",
              "  </thead>\n",
              "  <tbody>\n",
              "    <tr>\n",
              "      <th>Bas</th>\n",
              "      <td>180</td>\n",
              "      <td>64</td>\n",
              "    </tr>\n",
              "    <tr>\n",
              "      <th>Med</th>\n",
              "      <td>323</td>\n",
              "      <td>194</td>\n",
              "    </tr>\n",
              "    <tr>\n",
              "      <th>Posg</th>\n",
              "      <td>54</td>\n",
              "      <td>26</td>\n",
              "    </tr>\n",
              "    <tr>\n",
              "      <th>SupCom</th>\n",
              "      <td>166</td>\n",
              "      <td>132</td>\n",
              "    </tr>\n",
              "    <tr>\n",
              "      <th>SupInc</th>\n",
              "      <td>210</td>\n",
              "      <td>117</td>\n",
              "    </tr>\n",
              "  </tbody>\n",
              "</table>\n",
              "</div>\n",
              "      <button class=\"colab-df-convert\" onclick=\"convertToInteractive('df-455a012c-789e-4f1c-99a1-a732bf821da5')\"\n",
              "              title=\"Convert this dataframe to an interactive table.\"\n",
              "              style=\"display:none;\">\n",
              "        \n",
              "  <svg xmlns=\"http://www.w3.org/2000/svg\" height=\"24px\"viewBox=\"0 0 24 24\"\n",
              "       width=\"24px\">\n",
              "    <path d=\"M0 0h24v24H0V0z\" fill=\"none\"/>\n",
              "    <path d=\"M18.56 5.44l.94 2.06.94-2.06 2.06-.94-2.06-.94-.94-2.06-.94 2.06-2.06.94zm-11 1L8.5 8.5l.94-2.06 2.06-.94-2.06-.94L8.5 2.5l-.94 2.06-2.06.94zm10 10l.94 2.06.94-2.06 2.06-.94-2.06-.94-.94-2.06-.94 2.06-2.06.94z\"/><path d=\"M17.41 7.96l-1.37-1.37c-.4-.4-.92-.59-1.43-.59-.52 0-1.04.2-1.43.59L10.3 9.45l-7.72 7.72c-.78.78-.78 2.05 0 2.83L4 21.41c.39.39.9.59 1.41.59.51 0 1.02-.2 1.41-.59l7.78-7.78 2.81-2.81c.8-.78.8-2.07 0-2.86zM5.41 20L4 18.59l7.72-7.72 1.47 1.35L5.41 20z\"/>\n",
              "  </svg>\n",
              "      </button>\n",
              "      \n",
              "  <style>\n",
              "    .colab-df-container {\n",
              "      display:flex;\n",
              "      flex-wrap:wrap;\n",
              "      gap: 12px;\n",
              "    }\n",
              "\n",
              "    .colab-df-convert {\n",
              "      background-color: #E8F0FE;\n",
              "      border: none;\n",
              "      border-radius: 50%;\n",
              "      cursor: pointer;\n",
              "      display: none;\n",
              "      fill: #1967D2;\n",
              "      height: 32px;\n",
              "      padding: 0 0 0 0;\n",
              "      width: 32px;\n",
              "    }\n",
              "\n",
              "    .colab-df-convert:hover {\n",
              "      background-color: #E2EBFA;\n",
              "      box-shadow: 0px 1px 2px rgba(60, 64, 67, 0.3), 0px 1px 3px 1px rgba(60, 64, 67, 0.15);\n",
              "      fill: #174EA6;\n",
              "    }\n",
              "\n",
              "    [theme=dark] .colab-df-convert {\n",
              "      background-color: #3B4455;\n",
              "      fill: #D2E3FC;\n",
              "    }\n",
              "\n",
              "    [theme=dark] .colab-df-convert:hover {\n",
              "      background-color: #434B5C;\n",
              "      box-shadow: 0px 1px 3px 1px rgba(0, 0, 0, 0.15);\n",
              "      filter: drop-shadow(0px 1px 2px rgba(0, 0, 0, 0.3));\n",
              "      fill: #FFFFFF;\n",
              "    }\n",
              "  </style>\n",
              "\n",
              "      <script>\n",
              "        const buttonEl =\n",
              "          document.querySelector('#df-455a012c-789e-4f1c-99a1-a732bf821da5 button.colab-df-convert');\n",
              "        buttonEl.style.display =\n",
              "          google.colab.kernel.accessAllowed ? 'block' : 'none';\n",
              "\n",
              "        async function convertToInteractive(key) {\n",
              "          const element = document.querySelector('#df-455a012c-789e-4f1c-99a1-a732bf821da5');\n",
              "          const dataTable =\n",
              "            await google.colab.kernel.invokeFunction('convertToInteractive',\n",
              "                                                     [key], {});\n",
              "          if (!dataTable) return;\n",
              "\n",
              "          const docLinkHtml = 'Like what you see? Visit the ' +\n",
              "            '<a target=\"_blank\" href=https://colab.research.google.com/notebooks/data_table.ipynb>data table notebook</a>'\n",
              "            + ' to learn more about interactive tables.';\n",
              "          element.innerHTML = '';\n",
              "          dataTable['output_type'] = 'display_data';\n",
              "          await google.colab.output.renderOutput(dataTable, element);\n",
              "          const docLink = document.createElement('div');\n",
              "          docLink.innerHTML = docLinkHtml;\n",
              "          element.appendChild(docLink);\n",
              "        }\n",
              "      </script>\n",
              "    </div>\n",
              "  </div>\n",
              "  "
            ]
          },
          "metadata": {},
          "execution_count": 30
        }
      ]
    },
    {
      "cell_type": "markdown",
      "source": [
        "Ahora podemos calcular la media de cada nivel educativo."
      ],
      "metadata": {
        "id": "a2b_exTwlKpx"
      }
    },
    {
      "cell_type": "code",
      "source": [
        "bankloan_data.groupby('Education', as_index=False).agg({'Default': [\"mean\"]})"
      ],
      "metadata": {
        "colab": {
          "base_uri": "https://localhost:8080/",
          "height": 238
        },
        "id": "xOdLzJ_-lMlO",
        "outputId": "13a2dce7-96e3-4c60-92bd-ee990d9867e5"
      },
      "execution_count": 31,
      "outputs": [
        {
          "output_type": "execute_result",
          "data": {
            "text/plain": [
              "  Education   Default\n",
              "                 mean\n",
              "0       Bas  0.262295\n",
              "1       Med  0.375242\n",
              "2      Posg  0.325000\n",
              "3    SupCom  0.442953\n",
              "4    SupInc  0.357798"
            ],
            "text/html": [
              "\n",
              "  <div id=\"df-5c233e06-aedb-4699-9993-e4165d799e45\">\n",
              "    <div class=\"colab-df-container\">\n",
              "      <div>\n",
              "<style scoped>\n",
              "    .dataframe tbody tr th:only-of-type {\n",
              "        vertical-align: middle;\n",
              "    }\n",
              "\n",
              "    .dataframe tbody tr th {\n",
              "        vertical-align: top;\n",
              "    }\n",
              "\n",
              "    .dataframe thead tr th {\n",
              "        text-align: left;\n",
              "    }\n",
              "</style>\n",
              "<table border=\"1\" class=\"dataframe\">\n",
              "  <thead>\n",
              "    <tr>\n",
              "      <th></th>\n",
              "      <th>Education</th>\n",
              "      <th>Default</th>\n",
              "    </tr>\n",
              "    <tr>\n",
              "      <th></th>\n",
              "      <th></th>\n",
              "      <th>mean</th>\n",
              "    </tr>\n",
              "  </thead>\n",
              "  <tbody>\n",
              "    <tr>\n",
              "      <th>0</th>\n",
              "      <td>Bas</td>\n",
              "      <td>0.262295</td>\n",
              "    </tr>\n",
              "    <tr>\n",
              "      <th>1</th>\n",
              "      <td>Med</td>\n",
              "      <td>0.375242</td>\n",
              "    </tr>\n",
              "    <tr>\n",
              "      <th>2</th>\n",
              "      <td>Posg</td>\n",
              "      <td>0.325000</td>\n",
              "    </tr>\n",
              "    <tr>\n",
              "      <th>3</th>\n",
              "      <td>SupCom</td>\n",
              "      <td>0.442953</td>\n",
              "    </tr>\n",
              "    <tr>\n",
              "      <th>4</th>\n",
              "      <td>SupInc</td>\n",
              "      <td>0.357798</td>\n",
              "    </tr>\n",
              "  </tbody>\n",
              "</table>\n",
              "</div>\n",
              "      <button class=\"colab-df-convert\" onclick=\"convertToInteractive('df-5c233e06-aedb-4699-9993-e4165d799e45')\"\n",
              "              title=\"Convert this dataframe to an interactive table.\"\n",
              "              style=\"display:none;\">\n",
              "        \n",
              "  <svg xmlns=\"http://www.w3.org/2000/svg\" height=\"24px\"viewBox=\"0 0 24 24\"\n",
              "       width=\"24px\">\n",
              "    <path d=\"M0 0h24v24H0V0z\" fill=\"none\"/>\n",
              "    <path d=\"M18.56 5.44l.94 2.06.94-2.06 2.06-.94-2.06-.94-.94-2.06-.94 2.06-2.06.94zm-11 1L8.5 8.5l.94-2.06 2.06-.94-2.06-.94L8.5 2.5l-.94 2.06-2.06.94zm10 10l.94 2.06.94-2.06 2.06-.94-2.06-.94-.94-2.06-.94 2.06-2.06.94z\"/><path d=\"M17.41 7.96l-1.37-1.37c-.4-.4-.92-.59-1.43-.59-.52 0-1.04.2-1.43.59L10.3 9.45l-7.72 7.72c-.78.78-.78 2.05 0 2.83L4 21.41c.39.39.9.59 1.41.59.51 0 1.02-.2 1.41-.59l7.78-7.78 2.81-2.81c.8-.78.8-2.07 0-2.86zM5.41 20L4 18.59l7.72-7.72 1.47 1.35L5.41 20z\"/>\n",
              "  </svg>\n",
              "      </button>\n",
              "      \n",
              "  <style>\n",
              "    .colab-df-container {\n",
              "      display:flex;\n",
              "      flex-wrap:wrap;\n",
              "      gap: 12px;\n",
              "    }\n",
              "\n",
              "    .colab-df-convert {\n",
              "      background-color: #E8F0FE;\n",
              "      border: none;\n",
              "      border-radius: 50%;\n",
              "      cursor: pointer;\n",
              "      display: none;\n",
              "      fill: #1967D2;\n",
              "      height: 32px;\n",
              "      padding: 0 0 0 0;\n",
              "      width: 32px;\n",
              "    }\n",
              "\n",
              "    .colab-df-convert:hover {\n",
              "      background-color: #E2EBFA;\n",
              "      box-shadow: 0px 1px 2px rgba(60, 64, 67, 0.3), 0px 1px 3px 1px rgba(60, 64, 67, 0.15);\n",
              "      fill: #174EA6;\n",
              "    }\n",
              "\n",
              "    [theme=dark] .colab-df-convert {\n",
              "      background-color: #3B4455;\n",
              "      fill: #D2E3FC;\n",
              "    }\n",
              "\n",
              "    [theme=dark] .colab-df-convert:hover {\n",
              "      background-color: #434B5C;\n",
              "      box-shadow: 0px 1px 3px 1px rgba(0, 0, 0, 0.15);\n",
              "      filter: drop-shadow(0px 1px 2px rgba(0, 0, 0, 0.3));\n",
              "      fill: #FFFFFF;\n",
              "    }\n",
              "  </style>\n",
              "\n",
              "      <script>\n",
              "        const buttonEl =\n",
              "          document.querySelector('#df-5c233e06-aedb-4699-9993-e4165d799e45 button.colab-df-convert');\n",
              "        buttonEl.style.display =\n",
              "          google.colab.kernel.accessAllowed ? 'block' : 'none';\n",
              "\n",
              "        async function convertToInteractive(key) {\n",
              "          const element = document.querySelector('#df-5c233e06-aedb-4699-9993-e4165d799e45');\n",
              "          const dataTable =\n",
              "            await google.colab.kernel.invokeFunction('convertToInteractive',\n",
              "                                                     [key], {});\n",
              "          if (!dataTable) return;\n",
              "\n",
              "          const docLinkHtml = 'Like what you see? Visit the ' +\n",
              "            '<a target=\"_blank\" href=https://colab.research.google.com/notebooks/data_table.ipynb>data table notebook</a>'\n",
              "            + ' to learn more about interactive tables.';\n",
              "          element.innerHTML = '';\n",
              "          dataTable['output_type'] = 'display_data';\n",
              "          await google.colab.output.renderOutput(dataTable, element);\n",
              "          const docLink = document.createElement('div');\n",
              "          docLink.innerHTML = docLinkHtml;\n",
              "          element.appendChild(docLink);\n",
              "        }\n",
              "      </script>\n",
              "    </div>\n",
              "  </div>\n",
              "  "
            ]
          },
          "metadata": {},
          "execution_count": 31
        }
      ]
    },
    {
      "cell_type": "markdown",
      "source": [
        "Si quisiéramos, podríamos agrupar algunos niveles educativos, como '1upInc', 'Med' y 'Posg'. Si no, podemos crear variables ficticias directamente con Pandasget_dummies"
      ],
      "metadata": {
        "id": "wA1GD1CIlVdc"
      }
    },
    {
      "cell_type": "code",
      "source": [
        "bankloan_data = pd.get_dummies(bankloan_data)\n",
        "bankloan_data.describe()"
      ],
      "metadata": {
        "colab": {
          "base_uri": "https://localhost:8080/",
          "height": 434
        },
        "id": "ijsbr4UylW0G",
        "outputId": "3eb8879a-54fc-4917-b03d-ca622dad1771"
      },
      "execution_count": 32,
      "outputs": [
        {
          "output_type": "execute_result",
          "data": {
            "text/plain": [
              "            customer           Age        Employ       Address        Income  \\\n",
              "count    1466.000000  1.466000e+03  1.466000e+03  1.466000e+03  1.466000e+03   \n",
              "mean   257292.708731 -3.483647e-16 -7.701888e-17 -4.793801e-17  7.883644e-17   \n",
              "std    139836.339003  1.000341e+00  1.000341e+00  1.000341e+00  1.000341e+00   \n",
              "min     10012.000000 -1.231405e+00 -7.855789e-01 -1.040007e+00 -9.943516e-01   \n",
              "25%     98156.750000 -7.594467e-01 -7.855789e-01 -6.978116e-01 -6.265193e-01   \n",
              "50%    316020.000000 -2.481589e-01 -4.202049e-01 -3.556166e-01 -3.322534e-01   \n",
              "75%    370670.750000  5.777675e-01  3.105429e-01  4.998707e-01  2.317561e-01   \n",
              "max    453777.000000  3.409515e+00  5.425778e+00  4.777307e+00  5.798285e+00   \n",
              "\n",
              "           Leverage      Creddebt       OthDebt   MonthlyLoad      Default  \\\n",
              "count  1.466000e+03  1.466000e+03  1.466000e+03  1.466000e+03  1466.000000   \n",
              "mean  -9.012042e-18  1.247297e-16  1.513872e-16  2.767984e-17     0.363574   \n",
              "std    1.000341e+00  1.000341e+00  1.000341e+00  1.000341e+00     0.481192   \n",
              "min   -1.486708e+00 -8.357286e-01 -9.249446e-01 -1.252944e+00     0.000000   \n",
              "25%   -7.565985e-01 -6.312230e-01 -6.300780e-01 -7.361277e-01     0.000000   \n",
              "50%   -2.090163e-01 -3.618742e-01 -3.324811e-01 -2.362562e-01     0.000000   \n",
              "75%    5.363039e-01  2.104922e-01  2.756813e-01  4.415356e-01     1.000000   \n",
              "max    4.688802e+00  6.331944e+00  6.976389e+00  6.033318e+00     1.000000   \n",
              "\n",
              "       Education_Bas  Education_Med  Education_Posg  Education_SupCom  \\\n",
              "count    1466.000000    1466.000000     1466.000000       1466.000000   \n",
              "mean        0.166439       0.352660        0.054570          0.203274   \n",
              "std         0.372602       0.477961        0.227217          0.402572   \n",
              "min         0.000000       0.000000        0.000000          0.000000   \n",
              "25%         0.000000       0.000000        0.000000          0.000000   \n",
              "50%         0.000000       0.000000        0.000000          0.000000   \n",
              "75%         0.000000       1.000000        0.000000          0.000000   \n",
              "max         1.000000       1.000000        1.000000          1.000000   \n",
              "\n",
              "       Education_SupInc  \n",
              "count       1466.000000  \n",
              "mean           0.223056  \n",
              "std            0.416438  \n",
              "min            0.000000  \n",
              "25%            0.000000  \n",
              "50%            0.000000  \n",
              "75%            0.000000  \n",
              "max            1.000000  "
            ],
            "text/html": [
              "\n",
              "  <div id=\"df-05a9af75-3ea9-4dfc-b8d6-26f58b59e10c\">\n",
              "    <div class=\"colab-df-container\">\n",
              "      <div>\n",
              "<style scoped>\n",
              "    .dataframe tbody tr th:only-of-type {\n",
              "        vertical-align: middle;\n",
              "    }\n",
              "\n",
              "    .dataframe tbody tr th {\n",
              "        vertical-align: top;\n",
              "    }\n",
              "\n",
              "    .dataframe thead th {\n",
              "        text-align: right;\n",
              "    }\n",
              "</style>\n",
              "<table border=\"1\" class=\"dataframe\">\n",
              "  <thead>\n",
              "    <tr style=\"text-align: right;\">\n",
              "      <th></th>\n",
              "      <th>customer</th>\n",
              "      <th>Age</th>\n",
              "      <th>Employ</th>\n",
              "      <th>Address</th>\n",
              "      <th>Income</th>\n",
              "      <th>Leverage</th>\n",
              "      <th>Creddebt</th>\n",
              "      <th>OthDebt</th>\n",
              "      <th>MonthlyLoad</th>\n",
              "      <th>Default</th>\n",
              "      <th>Education_Bas</th>\n",
              "      <th>Education_Med</th>\n",
              "      <th>Education_Posg</th>\n",
              "      <th>Education_SupCom</th>\n",
              "      <th>Education_SupInc</th>\n",
              "    </tr>\n",
              "  </thead>\n",
              "  <tbody>\n",
              "    <tr>\n",
              "      <th>count</th>\n",
              "      <td>1466.000000</td>\n",
              "      <td>1.466000e+03</td>\n",
              "      <td>1.466000e+03</td>\n",
              "      <td>1.466000e+03</td>\n",
              "      <td>1.466000e+03</td>\n",
              "      <td>1.466000e+03</td>\n",
              "      <td>1.466000e+03</td>\n",
              "      <td>1.466000e+03</td>\n",
              "      <td>1.466000e+03</td>\n",
              "      <td>1466.000000</td>\n",
              "      <td>1466.000000</td>\n",
              "      <td>1466.000000</td>\n",
              "      <td>1466.000000</td>\n",
              "      <td>1466.000000</td>\n",
              "      <td>1466.000000</td>\n",
              "    </tr>\n",
              "    <tr>\n",
              "      <th>mean</th>\n",
              "      <td>257292.708731</td>\n",
              "      <td>-3.483647e-16</td>\n",
              "      <td>-7.701888e-17</td>\n",
              "      <td>-4.793801e-17</td>\n",
              "      <td>7.883644e-17</td>\n",
              "      <td>-9.012042e-18</td>\n",
              "      <td>1.247297e-16</td>\n",
              "      <td>1.513872e-16</td>\n",
              "      <td>2.767984e-17</td>\n",
              "      <td>0.363574</td>\n",
              "      <td>0.166439</td>\n",
              "      <td>0.352660</td>\n",
              "      <td>0.054570</td>\n",
              "      <td>0.203274</td>\n",
              "      <td>0.223056</td>\n",
              "    </tr>\n",
              "    <tr>\n",
              "      <th>std</th>\n",
              "      <td>139836.339003</td>\n",
              "      <td>1.000341e+00</td>\n",
              "      <td>1.000341e+00</td>\n",
              "      <td>1.000341e+00</td>\n",
              "      <td>1.000341e+00</td>\n",
              "      <td>1.000341e+00</td>\n",
              "      <td>1.000341e+00</td>\n",
              "      <td>1.000341e+00</td>\n",
              "      <td>1.000341e+00</td>\n",
              "      <td>0.481192</td>\n",
              "      <td>0.372602</td>\n",
              "      <td>0.477961</td>\n",
              "      <td>0.227217</td>\n",
              "      <td>0.402572</td>\n",
              "      <td>0.416438</td>\n",
              "    </tr>\n",
              "    <tr>\n",
              "      <th>min</th>\n",
              "      <td>10012.000000</td>\n",
              "      <td>-1.231405e+00</td>\n",
              "      <td>-7.855789e-01</td>\n",
              "      <td>-1.040007e+00</td>\n",
              "      <td>-9.943516e-01</td>\n",
              "      <td>-1.486708e+00</td>\n",
              "      <td>-8.357286e-01</td>\n",
              "      <td>-9.249446e-01</td>\n",
              "      <td>-1.252944e+00</td>\n",
              "      <td>0.000000</td>\n",
              "      <td>0.000000</td>\n",
              "      <td>0.000000</td>\n",
              "      <td>0.000000</td>\n",
              "      <td>0.000000</td>\n",
              "      <td>0.000000</td>\n",
              "    </tr>\n",
              "    <tr>\n",
              "      <th>25%</th>\n",
              "      <td>98156.750000</td>\n",
              "      <td>-7.594467e-01</td>\n",
              "      <td>-7.855789e-01</td>\n",
              "      <td>-6.978116e-01</td>\n",
              "      <td>-6.265193e-01</td>\n",
              "      <td>-7.565985e-01</td>\n",
              "      <td>-6.312230e-01</td>\n",
              "      <td>-6.300780e-01</td>\n",
              "      <td>-7.361277e-01</td>\n",
              "      <td>0.000000</td>\n",
              "      <td>0.000000</td>\n",
              "      <td>0.000000</td>\n",
              "      <td>0.000000</td>\n",
              "      <td>0.000000</td>\n",
              "      <td>0.000000</td>\n",
              "    </tr>\n",
              "    <tr>\n",
              "      <th>50%</th>\n",
              "      <td>316020.000000</td>\n",
              "      <td>-2.481589e-01</td>\n",
              "      <td>-4.202049e-01</td>\n",
              "      <td>-3.556166e-01</td>\n",
              "      <td>-3.322534e-01</td>\n",
              "      <td>-2.090163e-01</td>\n",
              "      <td>-3.618742e-01</td>\n",
              "      <td>-3.324811e-01</td>\n",
              "      <td>-2.362562e-01</td>\n",
              "      <td>0.000000</td>\n",
              "      <td>0.000000</td>\n",
              "      <td>0.000000</td>\n",
              "      <td>0.000000</td>\n",
              "      <td>0.000000</td>\n",
              "      <td>0.000000</td>\n",
              "    </tr>\n",
              "    <tr>\n",
              "      <th>75%</th>\n",
              "      <td>370670.750000</td>\n",
              "      <td>5.777675e-01</td>\n",
              "      <td>3.105429e-01</td>\n",
              "      <td>4.998707e-01</td>\n",
              "      <td>2.317561e-01</td>\n",
              "      <td>5.363039e-01</td>\n",
              "      <td>2.104922e-01</td>\n",
              "      <td>2.756813e-01</td>\n",
              "      <td>4.415356e-01</td>\n",
              "      <td>1.000000</td>\n",
              "      <td>0.000000</td>\n",
              "      <td>1.000000</td>\n",
              "      <td>0.000000</td>\n",
              "      <td>0.000000</td>\n",
              "      <td>0.000000</td>\n",
              "    </tr>\n",
              "    <tr>\n",
              "      <th>max</th>\n",
              "      <td>453777.000000</td>\n",
              "      <td>3.409515e+00</td>\n",
              "      <td>5.425778e+00</td>\n",
              "      <td>4.777307e+00</td>\n",
              "      <td>5.798285e+00</td>\n",
              "      <td>4.688802e+00</td>\n",
              "      <td>6.331944e+00</td>\n",
              "      <td>6.976389e+00</td>\n",
              "      <td>6.033318e+00</td>\n",
              "      <td>1.000000</td>\n",
              "      <td>1.000000</td>\n",
              "      <td>1.000000</td>\n",
              "      <td>1.000000</td>\n",
              "      <td>1.000000</td>\n",
              "      <td>1.000000</td>\n",
              "    </tr>\n",
              "  </tbody>\n",
              "</table>\n",
              "</div>\n",
              "      <button class=\"colab-df-convert\" onclick=\"convertToInteractive('df-05a9af75-3ea9-4dfc-b8d6-26f58b59e10c')\"\n",
              "              title=\"Convert this dataframe to an interactive table.\"\n",
              "              style=\"display:none;\">\n",
              "        \n",
              "  <svg xmlns=\"http://www.w3.org/2000/svg\" height=\"24px\"viewBox=\"0 0 24 24\"\n",
              "       width=\"24px\">\n",
              "    <path d=\"M0 0h24v24H0V0z\" fill=\"none\"/>\n",
              "    <path d=\"M18.56 5.44l.94 2.06.94-2.06 2.06-.94-2.06-.94-.94-2.06-.94 2.06-2.06.94zm-11 1L8.5 8.5l.94-2.06 2.06-.94-2.06-.94L8.5 2.5l-.94 2.06-2.06.94zm10 10l.94 2.06.94-2.06 2.06-.94-2.06-.94-.94-2.06-.94 2.06-2.06.94z\"/><path d=\"M17.41 7.96l-1.37-1.37c-.4-.4-.92-.59-1.43-.59-.52 0-1.04.2-1.43.59L10.3 9.45l-7.72 7.72c-.78.78-.78 2.05 0 2.83L4 21.41c.39.39.9.59 1.41.59.51 0 1.02-.2 1.41-.59l7.78-7.78 2.81-2.81c.8-.78.8-2.07 0-2.86zM5.41 20L4 18.59l7.72-7.72 1.47 1.35L5.41 20z\"/>\n",
              "  </svg>\n",
              "      </button>\n",
              "      \n",
              "  <style>\n",
              "    .colab-df-container {\n",
              "      display:flex;\n",
              "      flex-wrap:wrap;\n",
              "      gap: 12px;\n",
              "    }\n",
              "\n",
              "    .colab-df-convert {\n",
              "      background-color: #E8F0FE;\n",
              "      border: none;\n",
              "      border-radius: 50%;\n",
              "      cursor: pointer;\n",
              "      display: none;\n",
              "      fill: #1967D2;\n",
              "      height: 32px;\n",
              "      padding: 0 0 0 0;\n",
              "      width: 32px;\n",
              "    }\n",
              "\n",
              "    .colab-df-convert:hover {\n",
              "      background-color: #E2EBFA;\n",
              "      box-shadow: 0px 1px 2px rgba(60, 64, 67, 0.3), 0px 1px 3px 1px rgba(60, 64, 67, 0.15);\n",
              "      fill: #174EA6;\n",
              "    }\n",
              "\n",
              "    [theme=dark] .colab-df-convert {\n",
              "      background-color: #3B4455;\n",
              "      fill: #D2E3FC;\n",
              "    }\n",
              "\n",
              "    [theme=dark] .colab-df-convert:hover {\n",
              "      background-color: #434B5C;\n",
              "      box-shadow: 0px 1px 3px 1px rgba(0, 0, 0, 0.15);\n",
              "      filter: drop-shadow(0px 1px 2px rgba(0, 0, 0, 0.3));\n",
              "      fill: #FFFFFF;\n",
              "    }\n",
              "  </style>\n",
              "\n",
              "      <script>\n",
              "        const buttonEl =\n",
              "          document.querySelector('#df-05a9af75-3ea9-4dfc-b8d6-26f58b59e10c button.colab-df-convert');\n",
              "        buttonEl.style.display =\n",
              "          google.colab.kernel.accessAllowed ? 'block' : 'none';\n",
              "\n",
              "        async function convertToInteractive(key) {\n",
              "          const element = document.querySelector('#df-05a9af75-3ea9-4dfc-b8d6-26f58b59e10c');\n",
              "          const dataTable =\n",
              "            await google.colab.kernel.invokeFunction('convertToInteractive',\n",
              "                                                     [key], {});\n",
              "          if (!dataTable) return;\n",
              "\n",
              "          const docLinkHtml = 'Like what you see? Visit the ' +\n",
              "            '<a target=\"_blank\" href=https://colab.research.google.com/notebooks/data_table.ipynb>data table notebook</a>'\n",
              "            + ' to learn more about interactive tables.';\n",
              "          element.innerHTML = '';\n",
              "          dataTable['output_type'] = 'display_data';\n",
              "          await google.colab.output.renderOutput(dataTable, element);\n",
              "          const docLink = document.createElement('div');\n",
              "          docLink.innerHTML = docLinkHtml;\n",
              "          element.appendChild(docLink);\n",
              "        }\n",
              "      </script>\n",
              "    </div>\n",
              "  </div>\n",
              "  "
            ]
          },
          "metadata": {},
          "execution_count": 32
        }
      ]
    },
    {
      "cell_type": "markdown",
      "source": [
        "¡Ahora estamos listos para aplicar modelos generales!"
      ],
      "metadata": {
        "id": "Gx_fl9j6nqHl"
      }
    },
    {
      "cell_type": "markdown",
      "source": [
        "Versión original en inglés de [C. Bravo](https://github.com/CBravoR/AdvancedAnalyticsLabs).\n",
        "\n",
        "Traducido/Adaptado por [R. Soto](https://github.com/rsotop)."
      ],
      "metadata": {
        "id": "grmoWUQqSJOe"
      }
    }
  ]
}