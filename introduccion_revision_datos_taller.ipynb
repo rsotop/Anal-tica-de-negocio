{
 "cells": [
  {
   "cell_type": "markdown",
   "metadata": {},
   "source": [
    "</div>\n"
   ]
  },
  {
   "cell_type": "markdown",
   "metadata": {},
   "source": [
    "<h1 align=center><font size = 5>Análisis de Datos con Python</font></h1>"
   ]
  },
  {
   "cell_type": "markdown",
   "metadata": {},
   "source": [
    "<h1>Introducción</h1>\n",
    "<h3>¡Bienvenido!</h3>\n",
    "\n",
    "<p>\n",
    "En esta sección aprenderá como acercarse a la adquisición de datos de varias formas y obtener información necesaria de un conjunto de datos. Al terminar este laboratorio podra cargar con éxito los datos al cuaderno de Jupyter y obtener aportaciones fundamentales mediante la libreria Pandas.\n",
    "   </p>\n"
   ]
  },
  {
   "cell_type": "markdown",
   "metadata": {},
   "source": [
    "<h2>Indice</h2>\n",
    "\n",
    "<div class=\"alert alert-block alert-info\" style=\"margin-top: 20px\">\n",
    "<ol>\n",
    "    <li><a href=\"https://#data_acquisition\">Obtención de Datos</a>\n",
    "    <li><a href=\"https://#basic_insight\">Características Básicas del Conjunto de Datos</a></li>\n",
    "</ol>\n",
    "\n",
    "Estimated Time Needed: <strong>10 min</strong>\n",
    "\n",
    "</div>\n",
    "<hr>\n"
   ]
  },
  {
   "cell_type": "markdown",
   "metadata": {},
   "source": [
    "<h1 id=\"data_acquisition\">Obtención de Datos</h1>\n",
    "<p>\n",
    "Existen varios formatos para un conjunto de datos, .csv, .json, .xlsx, etc. Los datos pueden ser almacenados en distintos lugares, ya sea localmente o en línea.<b>\n",
    "En estas sección aprenderá a cargar un conjunto de datos en su cuaderno de Jupyter.</b>\n",
    "En nuestro caso el conjunto de datos Automobile es de una fuente en línea en formato CSV (valores separados por coma). Usemos este conjunto como ejemplo para practicar la lectura de datos.\n",
    "\n",
    "<ul>\n",
    "    <li>fuente de datos: <a href=\"https://archive.ics.uci.edu/ml/machine-learning-databases/autos/imports-85.data?utm_medium=Exinfluencer&utm_source=Exinfluencer&utm_content=000026UJ&utm_term=10006555&utm_id=NA-SkillsNetwork-Channel-SkillsNetworkCoursesIBMDeveloperSkillsNetworkDA0101ESedX20601300-2021-01-01\" target=\"_blank\">https://archive.ics.uci.edu/ml/machine-learning-databases/autos/imports-85.data</a></li>\n",
    "    <li>tipo de datos: csv</li>\n",
    "</ul>\n",
    "La librería Pandas es una herramienta util que nos permite la lectura de varios conjuntos de datos en un dataframe; nuestra plataforma de cuaderno de Jupyter posee esta librería por defecto así que lo único que debemos hacer es importar Pandas sin necesidad de instalarlo.\n",
    "</p>\n"
   ]
  },
  {
   "cell_type": "code",
   "execution_count": null,
   "metadata": {
    "collapsed": true
   },
   "outputs": [],
   "source": [
    "# importar librería pandas \n",
    "import pandas as pd"
   ]
  },
  {
   "cell_type": "markdown",
   "metadata": {},
   "source": [
    "<h2>Lectura de Datos</h2>\n",
    "<p>\n",
    "Utilizamos la función <code>pandas.read_csv()</code> para leer el archivo csv. Entre los corchetes pondremos la ruta del archivo sin comillas, de esta forma Pandas leerá el archivo en el dataframe desde esa dirección. La ruta del archivo puede ser tanto una URL como una dirección local.<br>\n",
    "Debido a que los datos no tienen cabeceras podemos añadir un argumento <code>headers = None</code> dentro del método <code>read_csv()</code> para que Pandas no establezca de forma automática la primera fila como cabecera.<br>\n",
    "Puede además asignar el conjunto de datos a cualquier variable que haya creado.\n",
    "\n",
    "</p>\n"
   ]
  },
  {
   "cell_type": "markdown",
   "metadata": {},
   "source": [
    "Este conjunto de datos fue almacenado como un objeto en IBM Cloud, haz clic <a href=\"https://cocl.us/DA101EN_object_storage?utm_medium=Exinfluencer&utm_source=Exinfluencer&utm_content=000026UJ&utm_term=10006555&utm_id=NA-SkillsNetwork-Channel-SkillsNetworkCoursesIBMDeveloperSkillsNetworkDA0101ESedX20601300-2021-01-01\">AQUI</a> para almacenar gratuitamente.\n"
   ]
  },
  {
   "cell_type": "code",
   "execution_count": null,
   "metadata": {},
   "outputs": [],
   "source": [
    "# Importar la librería Pandas \n",
    "import pandas as pd\n",
    "\n",
    "# Leer el archivo en línea desde la URL de arriba y asignarla a la variable \"df\"\n",
    "other_path = \"https://s3-api.us-geo.objectstorage.softlayer.net/cf-courses-data/CognitiveClass/DA0101EN/auto.csv\"\n",
    "df = pd.read_csv(other_path, header=None)"
   ]
  },
  {
   "cell_type": "markdown",
   "metadata": {},
   "source": [
    "Después de leer el conjunto de datos podemos utilizar el método <code>dataframe.head(n)</code> para revisar las primeras n filas del dataframe; donde n es u entero. Al contrario de <code>dataframe.head(n)</code>, <code>dataframe.tail(n)</code> mostrará las n filas del final del dataframe.\n"
   ]
  },
  {
   "cell_type": "code",
   "execution_count": null,
   "metadata": {},
   "outputs": [],
   "source": [
    "# muestra las primeras 5 filas mediante el método dataframe.head()\n",
    "print(\"The first 5 rows of the dataframe\") \n",
    "df.head(5)"
   ]
  },
  {
   "cell_type": "markdown",
   "metadata": {},
   "source": [
    "<div class=\"alert alert-danger alertdanger\" style=\"margin-top: 20px\">\n",
    "<h1> Pregunta #1: </h1>\n",
    "<b>Revisar las ultimas 10 filas del dataframe \"df\"</b>    \n",
    "</div>\n"
   ]
  },
  {
   "cell_type": "code",
   "execution_count": null,
   "metadata": {},
   "outputs": [],
   "source": [
    "# Escribe tu código aquí y presiona Shift+Enter para ejecutar\n"
   ]
  },
  {
   "cell_type": "markdown",
   "metadata": {},
   "source": [
    "<h3>Añadir Cabeceras</h3>\n",
    "<p>\n",
    "Observe el conjunto de datos; Pandas automaticamente establece la cabecera en un entero a partir de 0.  \n",
    "</p>\n",
    "<p>\n",
    "Para describir mejor nuestros datos podemos agregarle una cabecera, esta información esta disponible en:    \n",
    "<a href=\"https://archive.ics.uci.edu/ml/datasets/Automobile?utm_medium=Exinfluencer&utm_source=Exinfluencer&utm_content=000026UJ&utm_term=10006555&utm_id=NA-SkillsNetwork-Channel-SkillsNetworkCoursesIBMDeveloperSkillsNetworkDA0101ESedX20601300-2021-01-01\" target=\"_blank\">https://archive.ics.uci.edu/ml/datasets/Automobile</a>\n",
    "</p>\n",
    "<p>\n",
    "De este modo debemos agregar las cabeceras manualmente.    \n",
    "</p>\n",
    "<p>\n",
    "Primero creamos una lista \"headers\" que incluya todos los nombres de columna en orden.\n",
    "Despues usamos <code>dataframe.columns = headers</code> para reemplazar las cabeceras por la lista que hemos creado.\n",
    "</p>\n"
   ]
  },
  {
   "cell_type": "code",
   "execution_count": null,
   "metadata": {},
   "outputs": [],
   "source": [
    "# crear la lista headers \n",
    "headers = [\"symboling\",\"normalized-losses\",\"make\",\"fuel-type\",\"aspiration\", \"num-of-doors\",\"body-style\",\n",
    "         \"drive-wheels\",\"engine-location\",\"wheel-base\", \"length\",\"width\",\"height\",\"curb-weight\",\"engine-type\",\n",
    "         \"num-of-cylinders\", \"engine-size\",\"fuel-system\",\"bore\",\"stroke\",\"compression-ratio\",\"horsepower\",\n",
    "         \"peak-rpm\",\"city-mpg\",\"highway-mpg\",\"price\"]\n",
    "print(\"headers\\n\", headers)"
   ]
  },
  {
   "cell_type": "markdown",
   "metadata": {},
   "source": [
    "Remplazamos las cabeceras y volvemos a revisar nuestro dataframe\n"
   ]
  },
  {
   "cell_type": "code",
   "execution_count": null,
   "metadata": {},
   "outputs": [],
   "source": [
    "df.columns = headers\n",
    "df.head(10)"
   ]
  },
  {
   "cell_type": "markdown",
   "metadata": {},
   "source": [
    "Ahora hemos leido con éxito el conjunto de datos y añadido las cabeceras correctas en el dataframe.\n"
   ]
  },
  {
   "cell_type": "markdown",
   "metadata": {},
   "source": [
    " <div class=\"alert alert-danger alertdanger\" style=\"margin-top: 20px\">\n",
    "<h1> Pregunta #2: </h1>\n",
    "<b>Encuentre el nombre de las columnas del dataframe</b>\n",
    "</div>\n"
   ]
  },
  {
   "cell_type": "code",
   "execution_count": null,
   "metadata": {},
   "outputs": [],
   "source": [
    "# Escribe tu código aquí y presiona Shift+Enter para ejecutar\n"
   ]
  },
  {
   "cell_type": "markdown",
   "metadata": {},
   "source": [
    "<h2>Guardar el Conjunto de Datos</h2>\n",
    "<p>\n",
    "De la misma forma, Pandas nos permite guardar el conjunto en formato CSV con el método <code>dataframe.to_csv()</code>, puede añadir la ruta al archivo y el nombre con comillas dentro de los corchetes.\n",
    "</p>\n",
    "<p>\n",
    "    Por ejemplo, si guarda el dataframe <b>df</b> como <b>automobile.csv</b> en su equipo local, podría usar la sintaxis siguiente:\n",
    "    </p>\n"
   ]
  },
  {
   "cell_type": "raw",
   "metadata": {},
   "source": [
    "df.to_csv(\"automobile.csv\", index=False)"
   ]
  },
  {
   "cell_type": "markdown",
   "metadata": {},
   "source": [
    "Podemos leer y guardar con otros formatos y usar funciones similares a **`pd.read_csv()`** y **`df.to_csv()`** para otros formatos de datos, las funciones se muestran en la siguiente tabla:\n"
   ]
  },
  {
   "cell_type": "markdown",
   "metadata": {},
   "source": [
    "<h2>Leer/Guardar en otros formatos</h2>\n",
    "\n",
    "| Data Formate |        Read       |            Save |\n",
    "| ------------ | :---------------: | --------------: |\n",
    "| csv          |  `pd.read_csv()`  |   `df.to_csv()` |\n",
    "| json         |  `pd.read_json()` |  `df.to_json()` |\n",
    "| excel        | `pd.read_excel()` | `df.to_excel()` |\n",
    "| hdf          |  `pd.read_hdf()`  |   `df.to_hdf()` |\n",
    "| sql          |  `pd.read_sql()`  |   `df.to_sql()` |\n",
    "| ...          |        ...        |             ... |\n"
   ]
  },
  {
   "cell_type": "markdown",
   "metadata": {},
   "source": [
    "<h1 id=\"basic_insight\">Características Básicas del Conjunto de Datos</h1>\n",
    "<p>\n",
    "Después de leer los datos en el dataframe Pandas es tiempo de explorar el conjunto de datos.<br>\n",
    "Hay varias formas de obtener información esencial de los datos para entender mejor la totalidad de nuestro conjunto.</p>\n"
   ]
  },
  {
   "cell_type": "markdown",
   "metadata": {},
   "source": [
    "<h2>Tipo de Datos</h2>\n",
    "<p>\n",
    "Los datos se encuentran en una variedad de tipos.<br>\n",
    "Los tipos principales almacenados en dataframes de Pandas son <b>object</b>, <b>float</b>, <b>int</b>, <b>bool</b> y <b>datetime64</b>. Para aprender mejor acerca de cada atributo es mejor para nosotros saber el tipo de dato de cada columna. En Pandas:\n",
    "</p>\n"
   ]
  },
  {
   "cell_type": "code",
   "execution_count": null,
   "metadata": {},
   "outputs": [],
   "source": [
    "df.dtypes\n"
   ]
  },
  {
   "cell_type": "markdown",
   "metadata": {},
   "source": [
    "Devuelve una serie con el tipo de dato de cada columna.\n"
   ]
  },
  {
   "cell_type": "code",
   "execution_count": null,
   "metadata": {
    "scrolled": false
   },
   "outputs": [],
   "source": [
    "# revisar el tipo de dato del dataframe \"df\" con .dtypes\n",
    "print(df.dtypes)"
   ]
  },
  {
   "cell_type": "markdown",
   "metadata": {},
   "source": [
    "<p>\n",
    "Como se muestra, se observa claramente que el tipo de dato de \"symboling\" y \"curb-weight\" es <code>int64</code>, \"normalized-losses\" es <code>object</code>, y \"wheel-base\" es <code>float64</code>, etc.\n",
    "</p>\n",
    "<p>\n",
    "Estos tipos de datos pueden modificarse; aprenderemos a hacerlo en el siguiente módulo.    \n",
    "\n",
    "</p>\n"
   ]
  },
  {
   "cell_type": "markdown",
   "metadata": {},
   "source": [
    "<h2>Describe (método)</h2>\n",
    "Si queremos obtener un resumen estadístico de cada columna, como el conteo, el valor medio de la columna, desviación estandar, etc. Utilizaremos el método describe:\n"
   ]
  },
  {
   "cell_type": "raw",
   "metadata": {},
   "source": [
    "dataframe.describe()"
   ]
  },
  {
   "cell_type": "markdown",
   "metadata": {},
   "source": [
    "Este método ofrece varios resumenes estadistícos, excluyendo valores  <code>NaN</code> (Not a Number).\n"
   ]
  },
  {
   "cell_type": "code",
   "execution_count": null,
   "metadata": {},
   "outputs": [],
   "source": [
    "df.describe()"
   ]
  },
  {
   "cell_type": "markdown",
   "metadata": {},
   "source": [
    "<p>\n",
    "Este muestre el resumén estadístico de todas las columnas de tipo numerico (int, float).<br>\n",
    "Por ejemplo, el atributo \"symboling\" tiene 205 recuentos, el valor medio de esta columna es 0.83, la desviación estandar es 1.25, el valor mínimo es -2, 25 percentil igual a 0, 50 percentil es 1, 75 percentil es 2 y el valor máximo es 3.\n",
    "<br>\n",
    "Sin embargo, si quisieramos además revisar todas las columnas incluyendo aquellas que son de tipo objeto, ¿Que tendríamos que hacer?  \n",
    "<br><br>\n",
    "\n",
    "Puede añadir un argumento <code>include = \"all\"</code> dentro del corchete. Hagámoslo de nuevo.\n",
    "\n",
    "</p>\n"
   ]
  },
  {
   "cell_type": "code",
   "execution_count": null,
   "metadata": {},
   "outputs": [],
   "source": [
    "# describe todas las columnas de \"df\" \n",
    "df.describe(include = \"all\")"
   ]
  },
  {
   "cell_type": "markdown",
   "metadata": {},
   "source": [
    "<p>\n",
    "Ahora se da el resumen estadistíco de todas las columnas, incluyendo los atributos de tipo objeto.<br>\n",
    "Podemos observar ahora cuantos valores únicos, el cual es el valor mas alto y la frecuencia del valor alto en las columnas de tipo objeto.<br>\n",
    "Algunos valores en la tabla de arriba se muestran como \"NaN\", esto se debe a que aquellos números no estan disponibles a pesar del tipo particular de columna.<br>    \n",
    "</p>\n"
   ]
  },
  {
   "cell_type": "markdown",
   "metadata": {},
   "source": [
    "<div class=\"alert alert-danger alertdanger\" style=\"margin-top: 20px\">\n",
    "<h1> Pregunta #3: </h1>\n",
    "\n",
    "<p>\n",
    "Puede seleccionar las columna de un dataframe indicando el nombre de cada una, por ejemplo, puede seleccionar tres columnas de la siguiente manera:\n",
    "</p>\n",
    "<p>\n",
    "    <code>dataframe[[' column 1 ',column 2', 'column 3']]</code>\n",
    "</p>\n",
    "<p>\n",
    "Donde \"column\" es el nombre de la columna se puede aplicar el método \".describe()\" para obtener las estadísticas de aquellas columnas de la siguiente manera:\n",
    "</p>\n",
    "<p>\n",
    "    <code>dataframe[[' column 1 ',column 2', 'column 3'] ].describe()</code>\n",
    "</p>\n",
    "Aplicar el método \".describe()\" a las columnas 'length' y 'compression-ratio'. \n",
    "</div>\n"
   ]
  },
  {
   "cell_type": "code",
   "execution_count": null,
   "metadata": {},
   "outputs": [],
   "source": [
    "# Escribe tu código aquí y presiona Shift+Enter para ejecutar\n"
   ]
  },
  {
   "cell_type": "markdown",
   "metadata": {},
   "source": [
    "<h2>Info (método)</h2>\n",
    "Otro método que puede usar para revisar el dataframe es:\n"
   ]
  },
  {
   "cell_type": "raw",
   "metadata": {},
   "source": [
    "dataframe.info"
   ]
  },
  {
   "cell_type": "markdown",
   "metadata": {},
   "source": [
    "Ofrece un resumen conciso del dataframe.\n"
   ]
  },
  {
   "cell_type": "code",
   "execution_count": null,
   "metadata": {},
   "outputs": [],
   "source": [
    "# mirar la información de \"df\"\n",
    "df.info"
   ]
  },
  {
   "cell_type": "markdown",
   "metadata": {},
   "source": [
    "<p>\n",
    "Podemos observar la información del dataframe con las primeras 30 filas y las últimas 30.\n",
    "<br><br>\n",
    "Además, tambien muestra que la totalidad del dataframe tiene 205 filas y 26 columnas en total.\n",
    "</p>\n"
   ]
  },
  {
   "cell_type": "markdown",
   "metadata": {},
   "source": [
    "<h1>¡Excelente! ¡Ha completado el Cuaderno de Introducción!</h1>\n"
   ]
  },
  {
   "cell_type": "markdown",
   "metadata": {},
   "source": [
    "<h3>Acerca de los Autores:</h3>\n",
    "\n",
    "Este cuaderno fue escrito por <a href=\"https://www.linkedin.com/in/mahdi-noorian-58219234/?utm_medium=Exinfluencer&utm_source=Exinfluencer&utm_content=000026UJ&utm_term=10006555&utm_id=NA-SkillsNetwork-Channel-SkillsNetworkCoursesIBMDeveloperSkillsNetworkDA0101ESedX20601300-2021-01-01\" target=\"_blank\">Mahdi Noorian PhD</a>, <a href=\"https://www.linkedin.com/in/joseph-s-50398b136/?utm_medium=Exinfluencer&utm_source=Exinfluencer&utm_content=000026UJ&utm_term=10006555&utm_id=NA-SkillsNetwork-Channel-SkillsNetworkCoursesIBMDeveloperSkillsNetworkDA0101ESedX20601300-2021-01-01\" target=\"_blank\">Joseph Santarcangelo</a>, Bahare Talayian, Eric Xiao, Steven Dong, Parizad, Hima Vsudevan y <a href=\"https://www.linkedin.com/in/fiorellawever/?utm_medium=Exinfluencer&utm_source=Exinfluencer&utm_content=000026UJ&utm_term=10006555&utm_id=NA-SkillsNetwork-Channel-SkillsNetworkCoursesIBMDeveloperSkillsNetworkDA0101ESedX20601300-2021-01-01\" target=\"_blank\">Fiorella Wenver</a> y <a href=\"https:// https://www.linkedin.com/in/yi-leng-yao-84451275/ \" target=\"_blank\" >Yi Yao</a>.\n",
    "\n",
    "<p><a href=\"https://www.linkedin.com/in/joseph-s-50398b136/?utm_medium=Exinfluencer&utm_source=Exinfluencer&utm_content=000026UJ&utm_term=10006555&utm_id=NA-SkillsNetwork-Channel-SkillsNetworkCoursesIBMDeveloperSkillsNetworkDA0101ESedX20601300-2021-01-01\" target=\"_blank\">Joseph Santarcangelo</a> es un Cientifico de Datos en IBM que posee un Doctorado en Ingeniería Electrica. Su investigación se enfoca en el uso de Aprendizaje Automático, Procesamiento de Señales y Visión Artificial para determinar el impacto de los videos en la cognición. Joseph ha trabajado para IBM desde el término de su doctorado.\n",
    "</p>\n"
   ]
  },
  {
   "cell_type": "markdown",
   "metadata": {},
   "source": [
    "<hr>\n",
    "<p>Copyright &copy; 2018 IBM Developer Skills Network. This notebook and its source code are released under the terms of the <a href=\"https://cognitiveclass.ai/mit-license/?utm_medium=Exinfluencer&utm_source=Exinfluencer&utm_content=000026UJ&utm_term=10006555&utm_id=NA-SkillsNetwork-Channel-SkillsNetworkCoursesIBMDeveloperSkillsNetworkDA0101ESedX20601300-2021-01-01\">MIT License</a>.</p>\n"
   ]
  },
  {
   "cell_type": "code",
   "execution_count": null,
   "metadata": {},
   "outputs": [],
   "source": []
  }
 ],
 "metadata": {
  "anaconda-cloud": {},
  "kernelspec": {
   "display_name": "Python 3",
   "language": "python",
   "name": "python3"
  },
  "language_info": {
   "codemirror_mode": {
    "name": "ipython",
    "version": 3
   },
   "file_extension": ".py",
   "mimetype": "text/x-python",
   "name": "python",
   "nbconvert_exporter": "python",
   "pygments_lexer": "ipython3",
   "version": "3.7.4"
  }
 },
 "nbformat": 4,
 "nbformat_minor": 2
}
